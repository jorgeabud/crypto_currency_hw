{
 "cells": [
  {
   "cell_type": "markdown",
   "metadata": {},
   "source": [
    "# Clustering Crypto"
   ]
  },
  {
   "cell_type": "code",
   "execution_count": 340,
   "metadata": {},
   "outputs": [],
   "source": [
    "# Initial imports\n",
    "import requests\n",
    "import pandas as pd\n",
    "import matplotlib.pyplot as plt\n",
    "import hvplot.pandas\n",
    "import plotly.express as px\n",
    "from sklearn.preprocessing import StandardScaler, MinMaxScaler\n",
    "from sklearn.decomposition import PCA\n",
    "from sklearn.cluster import KMeans"
   ]
  },
  {
   "cell_type": "markdown",
   "metadata": {},
   "source": [
    "### Fetching Cryptocurrency Data"
   ]
  },
  {
   "cell_type": "code",
   "execution_count": 341,
   "metadata": {},
   "outputs": [],
   "source": [
    "import json\n",
    "import pprint"
   ]
  },
  {
   "cell_type": "code",
   "execution_count": 342,
   "metadata": {},
   "outputs": [],
   "source": [
    "# Use the following endpoint to fetch json data\n",
    "url = \"https://min-api.cryptocompare.com/data/all/coinlist\"\n",
    "requests = requests.get(url)\n",
    "content = requests.content\n",
    "content_cleaned = content.decode('utf-8')\n",
    "data = json.loads(content_cleaned)"
   ]
  },
  {
   "cell_type": "code",
   "execution_count": 343,
   "metadata": {},
   "outputs": [
    {
     "output_type": "execute_result",
     "data": {
      "text/plain": [
       "            Id                     Url  \\\n",
       "42        4321      /coins/42/overview   \n",
       "300     749869     /coins/300/overview   \n",
       "365      33639     /coins/365/overview   \n",
       "404      21227     /coins/404/overview   \n",
       "433     926547     /coins/433/overview   \n",
       "...        ...                     ...   \n",
       "TIGER   925903   /coins/tiger/overview   \n",
       "GPT     938079     /coins/gpt/overview   \n",
       "TCH     931525     /coins/tch/overview   \n",
       "YLD     938086     /coins/yld/overview   \n",
       "BADGER  938060  /coins/badger/overview   \n",
       "\n",
       "                                      ImageUrl ContentCreatedOn    Name  \\\n",
       "42                      /media/35650717/42.jpg       1427211129      42   \n",
       "300                    /media/27010595/300.png       1517935016     300   \n",
       "365                      /media/352070/365.png       1480032918     365   \n",
       "404            /media/35650851/404-300x300.jpg       1466100361     404   \n",
       "433                    /media/34836095/433.png       1541597321     433   \n",
       "...                                        ...              ...     ...   \n",
       "TIGER            /media/34835667/cointiger.png       1539079984   TIGER   \n",
       "GPT     /media/37621865/grace-period-token.png       1608029024     GPT   \n",
       "TCH                   /media/35651225/thch.png       1564479662     TCH   \n",
       "YLD               /media/37621868/yieldapp.png       1608113117     YLD   \n",
       "BADGER          /media/37621852/badger-dao.png       1607688306  BADGER   \n",
       "\n",
       "        Symbol            CoinName                  FullName  \\\n",
       "42          42             42 Coin              42 Coin (42)   \n",
       "300        300           300 token           300 token (300)   \n",
       "365        365             365Coin             365Coin (365)   \n",
       "404        404             404Coin             404Coin (404)   \n",
       "433        433           433 Token           433 Token (433)   \n",
       "...        ...                 ...                       ...   \n",
       "TIGER    TIGER           TigerCash         TigerCash (TIGER)   \n",
       "GPT        GPT  Grace Period Token  Grace Period Token (GPT)   \n",
       "TCH        TCH           Thorecash           Thorecash (TCH)   \n",
       "YLD        YLD           YIELD App           YIELD App (YLD)   \n",
       "BADGER  BADGER          Badger DAO       Badger DAO (BADGER)   \n",
       "\n",
       "                                              Description AssetTokenStatus  \\\n",
       "42      Everything about 42 coin is 42 - apart from th...              N/A   \n",
       "300     300 token is an ERC20 token. This Token was cr...              N/A   \n",
       "365     365Coin is a Proof of Work and Proof of Stake ...              N/A   \n",
       "404     404 is a PoW/PoS hybrid cryptocurrency that al...              N/A   \n",
       "433     433 Token is a decentralised soccer platform t...         Finished   \n",
       "...                                                   ...              ...   \n",
       "TIGER   The official TigerCash ticker is “TCH” and tra...              N/A   \n",
       "GPT     GPT (Grace Period Token) is a token used to de...              N/A   \n",
       "TCH     Thorecash makes crypto-lending and investments...              N/A   \n",
       "YLD     Yield is a P2P, non-custodial lending dapp tha...              N/A   \n",
       "BADGER  Badger is a decentralized autonomous organizat...              N/A   \n",
       "\n",
       "        ... BlockTime AssetLaunchDate MaxSupply MktCapPenalty PlatformType  \\\n",
       "42      ...         0      0000-00-00         0             0          NaN   \n",
       "300     ...         0      2017-07-01       300             0        token   \n",
       "365     ...         0      0000-00-00         0             0          NaN   \n",
       "404     ...         0      0000-00-00         0             0          NaN   \n",
       "433     ...       NaN             NaN       NaN           NaN          NaN   \n",
       "...     ...       ...             ...       ...           ...          ...   \n",
       "TIGER   ...       NaN             NaN       NaN           NaN          NaN   \n",
       "GPT     ...       NaN             NaN       NaN           NaN          NaN   \n",
       "TCH     ...       NaN             NaN       NaN           NaN          NaN   \n",
       "YLD     ...       NaN             NaN       NaN           NaN          NaN   \n",
       "BADGER  ...       NaN             NaN       NaN           NaN          NaN   \n",
       "\n",
       "       BuiltOn                        SmartContractAddress DecimalPoints  \\\n",
       "42         NaN                                         NaN           NaN   \n",
       "300        ETH  0xaec98a708810414878c3bcdf46aad31ded4a4557            18   \n",
       "365        NaN                                         NaN           NaN   \n",
       "404        NaN                                         NaN           NaN   \n",
       "433        NaN                                         NaN           NaN   \n",
       "...        ...                                         ...           ...   \n",
       "TIGER      NaN                                         NaN           NaN   \n",
       "GPT        NaN                                         NaN           NaN   \n",
       "TCH        NaN                                         NaN           NaN   \n",
       "YLD        NaN                                         NaN           NaN   \n",
       "BADGER     NaN                                         NaN           NaN   \n",
       "\n",
       "       Difficulty IsUsedInDefi  \n",
       "42            NaN          NaN  \n",
       "300           NaN          NaN  \n",
       "365           NaN          NaN  \n",
       "404           NaN          NaN  \n",
       "433           NaN          NaN  \n",
       "...           ...          ...  \n",
       "TIGER         NaN          NaN  \n",
       "GPT           NaN          NaN  \n",
       "TCH           NaN          NaN  \n",
       "YLD           NaN          NaN  \n",
       "BADGER        NaN          NaN  \n",
       "\n",
       "[5773 rows x 31 columns]"
      ],
      "text/html": "<div>\n<style scoped>\n    .dataframe tbody tr th:only-of-type {\n        vertical-align: middle;\n    }\n\n    .dataframe tbody tr th {\n        vertical-align: top;\n    }\n\n    .dataframe thead th {\n        text-align: right;\n    }\n</style>\n<table border=\"1\" class=\"dataframe\">\n  <thead>\n    <tr style=\"text-align: right;\">\n      <th></th>\n      <th>Id</th>\n      <th>Url</th>\n      <th>ImageUrl</th>\n      <th>ContentCreatedOn</th>\n      <th>Name</th>\n      <th>Symbol</th>\n      <th>CoinName</th>\n      <th>FullName</th>\n      <th>Description</th>\n      <th>AssetTokenStatus</th>\n      <th>...</th>\n      <th>BlockTime</th>\n      <th>AssetLaunchDate</th>\n      <th>MaxSupply</th>\n      <th>MktCapPenalty</th>\n      <th>PlatformType</th>\n      <th>BuiltOn</th>\n      <th>SmartContractAddress</th>\n      <th>DecimalPoints</th>\n      <th>Difficulty</th>\n      <th>IsUsedInDefi</th>\n    </tr>\n  </thead>\n  <tbody>\n    <tr>\n      <th>42</th>\n      <td>4321</td>\n      <td>/coins/42/overview</td>\n      <td>/media/35650717/42.jpg</td>\n      <td>1427211129</td>\n      <td>42</td>\n      <td>42</td>\n      <td>42 Coin</td>\n      <td>42 Coin (42)</td>\n      <td>Everything about 42 coin is 42 - apart from th...</td>\n      <td>N/A</td>\n      <td>...</td>\n      <td>0</td>\n      <td>0000-00-00</td>\n      <td>0</td>\n      <td>0</td>\n      <td>NaN</td>\n      <td>NaN</td>\n      <td>NaN</td>\n      <td>NaN</td>\n      <td>NaN</td>\n      <td>NaN</td>\n    </tr>\n    <tr>\n      <th>300</th>\n      <td>749869</td>\n      <td>/coins/300/overview</td>\n      <td>/media/27010595/300.png</td>\n      <td>1517935016</td>\n      <td>300</td>\n      <td>300</td>\n      <td>300 token</td>\n      <td>300 token (300)</td>\n      <td>300 token is an ERC20 token. This Token was cr...</td>\n      <td>N/A</td>\n      <td>...</td>\n      <td>0</td>\n      <td>2017-07-01</td>\n      <td>300</td>\n      <td>0</td>\n      <td>token</td>\n      <td>ETH</td>\n      <td>0xaec98a708810414878c3bcdf46aad31ded4a4557</td>\n      <td>18</td>\n      <td>NaN</td>\n      <td>NaN</td>\n    </tr>\n    <tr>\n      <th>365</th>\n      <td>33639</td>\n      <td>/coins/365/overview</td>\n      <td>/media/352070/365.png</td>\n      <td>1480032918</td>\n      <td>365</td>\n      <td>365</td>\n      <td>365Coin</td>\n      <td>365Coin (365)</td>\n      <td>365Coin is a Proof of Work and Proof of Stake ...</td>\n      <td>N/A</td>\n      <td>...</td>\n      <td>0</td>\n      <td>0000-00-00</td>\n      <td>0</td>\n      <td>0</td>\n      <td>NaN</td>\n      <td>NaN</td>\n      <td>NaN</td>\n      <td>NaN</td>\n      <td>NaN</td>\n      <td>NaN</td>\n    </tr>\n    <tr>\n      <th>404</th>\n      <td>21227</td>\n      <td>/coins/404/overview</td>\n      <td>/media/35650851/404-300x300.jpg</td>\n      <td>1466100361</td>\n      <td>404</td>\n      <td>404</td>\n      <td>404Coin</td>\n      <td>404Coin (404)</td>\n      <td>404 is a PoW/PoS hybrid cryptocurrency that al...</td>\n      <td>N/A</td>\n      <td>...</td>\n      <td>0</td>\n      <td>0000-00-00</td>\n      <td>0</td>\n      <td>0</td>\n      <td>NaN</td>\n      <td>NaN</td>\n      <td>NaN</td>\n      <td>NaN</td>\n      <td>NaN</td>\n      <td>NaN</td>\n    </tr>\n    <tr>\n      <th>433</th>\n      <td>926547</td>\n      <td>/coins/433/overview</td>\n      <td>/media/34836095/433.png</td>\n      <td>1541597321</td>\n      <td>433</td>\n      <td>433</td>\n      <td>433 Token</td>\n      <td>433 Token (433)</td>\n      <td>433 Token is a decentralised soccer platform t...</td>\n      <td>Finished</td>\n      <td>...</td>\n      <td>NaN</td>\n      <td>NaN</td>\n      <td>NaN</td>\n      <td>NaN</td>\n      <td>NaN</td>\n      <td>NaN</td>\n      <td>NaN</td>\n      <td>NaN</td>\n      <td>NaN</td>\n      <td>NaN</td>\n    </tr>\n    <tr>\n      <th>...</th>\n      <td>...</td>\n      <td>...</td>\n      <td>...</td>\n      <td>...</td>\n      <td>...</td>\n      <td>...</td>\n      <td>...</td>\n      <td>...</td>\n      <td>...</td>\n      <td>...</td>\n      <td>...</td>\n      <td>...</td>\n      <td>...</td>\n      <td>...</td>\n      <td>...</td>\n      <td>...</td>\n      <td>...</td>\n      <td>...</td>\n      <td>...</td>\n      <td>...</td>\n      <td>...</td>\n    </tr>\n    <tr>\n      <th>TIGER</th>\n      <td>925903</td>\n      <td>/coins/tiger/overview</td>\n      <td>/media/34835667/cointiger.png</td>\n      <td>1539079984</td>\n      <td>TIGER</td>\n      <td>TIGER</td>\n      <td>TigerCash</td>\n      <td>TigerCash (TIGER)</td>\n      <td>The official TigerCash ticker is “TCH” and tra...</td>\n      <td>N/A</td>\n      <td>...</td>\n      <td>NaN</td>\n      <td>NaN</td>\n      <td>NaN</td>\n      <td>NaN</td>\n      <td>NaN</td>\n      <td>NaN</td>\n      <td>NaN</td>\n      <td>NaN</td>\n      <td>NaN</td>\n      <td>NaN</td>\n    </tr>\n    <tr>\n      <th>GPT</th>\n      <td>938079</td>\n      <td>/coins/gpt/overview</td>\n      <td>/media/37621865/grace-period-token.png</td>\n      <td>1608029024</td>\n      <td>GPT</td>\n      <td>GPT</td>\n      <td>Grace Period Token</td>\n      <td>Grace Period Token (GPT)</td>\n      <td>GPT (Grace Period Token) is a token used to de...</td>\n      <td>N/A</td>\n      <td>...</td>\n      <td>NaN</td>\n      <td>NaN</td>\n      <td>NaN</td>\n      <td>NaN</td>\n      <td>NaN</td>\n      <td>NaN</td>\n      <td>NaN</td>\n      <td>NaN</td>\n      <td>NaN</td>\n      <td>NaN</td>\n    </tr>\n    <tr>\n      <th>TCH</th>\n      <td>931525</td>\n      <td>/coins/tch/overview</td>\n      <td>/media/35651225/thch.png</td>\n      <td>1564479662</td>\n      <td>TCH</td>\n      <td>TCH</td>\n      <td>Thorecash</td>\n      <td>Thorecash (TCH)</td>\n      <td>Thorecash makes crypto-lending and investments...</td>\n      <td>N/A</td>\n      <td>...</td>\n      <td>NaN</td>\n      <td>NaN</td>\n      <td>NaN</td>\n      <td>NaN</td>\n      <td>NaN</td>\n      <td>NaN</td>\n      <td>NaN</td>\n      <td>NaN</td>\n      <td>NaN</td>\n      <td>NaN</td>\n    </tr>\n    <tr>\n      <th>YLD</th>\n      <td>938086</td>\n      <td>/coins/yld/overview</td>\n      <td>/media/37621868/yieldapp.png</td>\n      <td>1608113117</td>\n      <td>YLD</td>\n      <td>YLD</td>\n      <td>YIELD App</td>\n      <td>YIELD App (YLD)</td>\n      <td>Yield is a P2P, non-custodial lending dapp tha...</td>\n      <td>N/A</td>\n      <td>...</td>\n      <td>NaN</td>\n      <td>NaN</td>\n      <td>NaN</td>\n      <td>NaN</td>\n      <td>NaN</td>\n      <td>NaN</td>\n      <td>NaN</td>\n      <td>NaN</td>\n      <td>NaN</td>\n      <td>NaN</td>\n    </tr>\n    <tr>\n      <th>BADGER</th>\n      <td>938060</td>\n      <td>/coins/badger/overview</td>\n      <td>/media/37621852/badger-dao.png</td>\n      <td>1607688306</td>\n      <td>BADGER</td>\n      <td>BADGER</td>\n      <td>Badger DAO</td>\n      <td>Badger DAO (BADGER)</td>\n      <td>Badger is a decentralized autonomous organizat...</td>\n      <td>N/A</td>\n      <td>...</td>\n      <td>NaN</td>\n      <td>NaN</td>\n      <td>NaN</td>\n      <td>NaN</td>\n      <td>NaN</td>\n      <td>NaN</td>\n      <td>NaN</td>\n      <td>NaN</td>\n      <td>NaN</td>\n      <td>NaN</td>\n    </tr>\n  </tbody>\n</table>\n<p>5773 rows × 31 columns</p>\n</div>"
     },
     "metadata": {},
     "execution_count": 343
    }
   ],
   "source": [
    "# Create a DataFrame \n",
    "# HINT: You will need to use the 'Data' key from the json response, then transpose the DataFrame.\n",
    "crypto_frame = pd.DataFrame(data=data[\"Data\"])\n",
    "\n",
    "crypto_dataframe = crypto_frame.T\n",
    "crypto_dataframe"
   ]
  },
  {
   "cell_type": "code",
   "execution_count": null,
   "metadata": {},
   "outputs": [],
   "source": []
  },
  {
   "cell_type": "code",
   "execution_count": 344,
   "metadata": {},
   "outputs": [
    {
     "output_type": "execute_result",
     "data": {
      "text/plain": [
       "            CoinName Algorithm  IsTrading ProofType  TotalCoinsMined  \\\n",
       "42           42 Coin    Scrypt       True   PoW/PoS     4.199995e+01   \n",
       "365          365Coin       X11       True   PoW/PoS              NaN   \n",
       "404          404Coin    Scrypt       True   PoW/PoS     1.055185e+09   \n",
       "611        SixEleven   SHA-256       True       PoW              NaN   \n",
       "808              808   SHA-256       True   PoW/PoS     0.000000e+00   \n",
       "...              ...       ...        ...       ...              ...   \n",
       "XBC      BitcoinPlus    Scrypt       True       PoS     1.283270e+05   \n",
       "DVTC      DivotyCoin    Scrypt      False   PoW/PoS     2.149121e+07   \n",
       "GIOT     Giotto Coin    Scrypt      False   PoW/PoS              NaN   \n",
       "OPSC  OpenSourceCoin   SHA-256      False   PoW/PoS              NaN   \n",
       "PUNK       SteamPunk       PoS      False       PoS              NaN   \n",
       "\n",
       "     TotalCoinSupply  \n",
       "42                42  \n",
       "365       2300000000  \n",
       "404        532000000  \n",
       "611           611000  \n",
       "808                0  \n",
       "...              ...  \n",
       "XBC          1000000  \n",
       "DVTC       100000000  \n",
       "GIOT       233100000  \n",
       "OPSC        21000000  \n",
       "PUNK        40000000  \n",
       "\n",
       "[1252 rows x 6 columns]"
      ],
      "text/html": "<div>\n<style scoped>\n    .dataframe tbody tr th:only-of-type {\n        vertical-align: middle;\n    }\n\n    .dataframe tbody tr th {\n        vertical-align: top;\n    }\n\n    .dataframe thead th {\n        text-align: right;\n    }\n</style>\n<table border=\"1\" class=\"dataframe\">\n  <thead>\n    <tr style=\"text-align: right;\">\n      <th></th>\n      <th>CoinName</th>\n      <th>Algorithm</th>\n      <th>IsTrading</th>\n      <th>ProofType</th>\n      <th>TotalCoinsMined</th>\n      <th>TotalCoinSupply</th>\n    </tr>\n  </thead>\n  <tbody>\n    <tr>\n      <th>42</th>\n      <td>42 Coin</td>\n      <td>Scrypt</td>\n      <td>True</td>\n      <td>PoW/PoS</td>\n      <td>4.199995e+01</td>\n      <td>42</td>\n    </tr>\n    <tr>\n      <th>365</th>\n      <td>365Coin</td>\n      <td>X11</td>\n      <td>True</td>\n      <td>PoW/PoS</td>\n      <td>NaN</td>\n      <td>2300000000</td>\n    </tr>\n    <tr>\n      <th>404</th>\n      <td>404Coin</td>\n      <td>Scrypt</td>\n      <td>True</td>\n      <td>PoW/PoS</td>\n      <td>1.055185e+09</td>\n      <td>532000000</td>\n    </tr>\n    <tr>\n      <th>611</th>\n      <td>SixEleven</td>\n      <td>SHA-256</td>\n      <td>True</td>\n      <td>PoW</td>\n      <td>NaN</td>\n      <td>611000</td>\n    </tr>\n    <tr>\n      <th>808</th>\n      <td>808</td>\n      <td>SHA-256</td>\n      <td>True</td>\n      <td>PoW/PoS</td>\n      <td>0.000000e+00</td>\n      <td>0</td>\n    </tr>\n    <tr>\n      <th>...</th>\n      <td>...</td>\n      <td>...</td>\n      <td>...</td>\n      <td>...</td>\n      <td>...</td>\n      <td>...</td>\n    </tr>\n    <tr>\n      <th>XBC</th>\n      <td>BitcoinPlus</td>\n      <td>Scrypt</td>\n      <td>True</td>\n      <td>PoS</td>\n      <td>1.283270e+05</td>\n      <td>1000000</td>\n    </tr>\n    <tr>\n      <th>DVTC</th>\n      <td>DivotyCoin</td>\n      <td>Scrypt</td>\n      <td>False</td>\n      <td>PoW/PoS</td>\n      <td>2.149121e+07</td>\n      <td>100000000</td>\n    </tr>\n    <tr>\n      <th>GIOT</th>\n      <td>Giotto Coin</td>\n      <td>Scrypt</td>\n      <td>False</td>\n      <td>PoW/PoS</td>\n      <td>NaN</td>\n      <td>233100000</td>\n    </tr>\n    <tr>\n      <th>OPSC</th>\n      <td>OpenSourceCoin</td>\n      <td>SHA-256</td>\n      <td>False</td>\n      <td>PoW/PoS</td>\n      <td>NaN</td>\n      <td>21000000</td>\n    </tr>\n    <tr>\n      <th>PUNK</th>\n      <td>SteamPunk</td>\n      <td>PoS</td>\n      <td>False</td>\n      <td>PoS</td>\n      <td>NaN</td>\n      <td>40000000</td>\n    </tr>\n  </tbody>\n</table>\n<p>1252 rows × 6 columns</p>\n</div>"
     },
     "metadata": {},
     "execution_count": 344
    }
   ],
   "source": [
    "# Alternatively, use the provided csv file:\n",
    "file_path = (\"Resources/crypto_data.csv\")\n",
    "crypto_df = pd.read_csv(file_path, index_col=0)\n",
    "crypto_df"
   ]
  },
  {
   "cell_type": "markdown",
   "metadata": {},
   "source": [
    "### Data Preprocessing"
   ]
  },
  {
   "cell_type": "code",
   "execution_count": 345,
   "metadata": {},
   "outputs": [
    {
     "output_type": "execute_result",
     "data": {
      "text/plain": [
       "['CoinName',\n",
       " 'Algorithm',\n",
       " 'IsTrading',\n",
       " 'ProofType',\n",
       " 'TotalCoinsMined',\n",
       " 'TotalCoinSupply']"
      ]
     },
     "metadata": {},
     "execution_count": 345
    }
   ],
   "source": [
    "#Just did a check for myself has no effect on anything\n",
    "list(crypto_df.columns)"
   ]
  },
  {
   "cell_type": "code",
   "execution_count": 346,
   "metadata": {},
   "outputs": [
    {
     "output_type": "execute_result",
     "data": {
      "text/plain": [
       "            CoinName Algorithm  IsTrading ProofType  TotalCoinsMined  \\\n",
       "42           42 Coin    Scrypt       True   PoW/PoS     4.199995e+01   \n",
       "365          365Coin       X11       True   PoW/PoS              NaN   \n",
       "404          404Coin    Scrypt       True   PoW/PoS     1.055185e+09   \n",
       "611        SixEleven   SHA-256       True       PoW              NaN   \n",
       "808              808   SHA-256       True   PoW/PoS     0.000000e+00   \n",
       "...              ...       ...        ...       ...              ...   \n",
       "XBC      BitcoinPlus    Scrypt       True       PoS     1.283270e+05   \n",
       "DVTC      DivotyCoin    Scrypt      False   PoW/PoS     2.149121e+07   \n",
       "GIOT     Giotto Coin    Scrypt      False   PoW/PoS              NaN   \n",
       "OPSC  OpenSourceCoin   SHA-256      False   PoW/PoS              NaN   \n",
       "PUNK       SteamPunk       PoS      False       PoS              NaN   \n",
       "\n",
       "     TotalCoinSupply  \n",
       "42                42  \n",
       "365       2300000000  \n",
       "404        532000000  \n",
       "611           611000  \n",
       "808                0  \n",
       "...              ...  \n",
       "XBC          1000000  \n",
       "DVTC       100000000  \n",
       "GIOT       233100000  \n",
       "OPSC        21000000  \n",
       "PUNK        40000000  \n",
       "\n",
       "[1252 rows x 6 columns]"
      ],
      "text/html": "<div>\n<style scoped>\n    .dataframe tbody tr th:only-of-type {\n        vertical-align: middle;\n    }\n\n    .dataframe tbody tr th {\n        vertical-align: top;\n    }\n\n    .dataframe thead th {\n        text-align: right;\n    }\n</style>\n<table border=\"1\" class=\"dataframe\">\n  <thead>\n    <tr style=\"text-align: right;\">\n      <th></th>\n      <th>CoinName</th>\n      <th>Algorithm</th>\n      <th>IsTrading</th>\n      <th>ProofType</th>\n      <th>TotalCoinsMined</th>\n      <th>TotalCoinSupply</th>\n    </tr>\n  </thead>\n  <tbody>\n    <tr>\n      <th>42</th>\n      <td>42 Coin</td>\n      <td>Scrypt</td>\n      <td>True</td>\n      <td>PoW/PoS</td>\n      <td>4.199995e+01</td>\n      <td>42</td>\n    </tr>\n    <tr>\n      <th>365</th>\n      <td>365Coin</td>\n      <td>X11</td>\n      <td>True</td>\n      <td>PoW/PoS</td>\n      <td>NaN</td>\n      <td>2300000000</td>\n    </tr>\n    <tr>\n      <th>404</th>\n      <td>404Coin</td>\n      <td>Scrypt</td>\n      <td>True</td>\n      <td>PoW/PoS</td>\n      <td>1.055185e+09</td>\n      <td>532000000</td>\n    </tr>\n    <tr>\n      <th>611</th>\n      <td>SixEleven</td>\n      <td>SHA-256</td>\n      <td>True</td>\n      <td>PoW</td>\n      <td>NaN</td>\n      <td>611000</td>\n    </tr>\n    <tr>\n      <th>808</th>\n      <td>808</td>\n      <td>SHA-256</td>\n      <td>True</td>\n      <td>PoW/PoS</td>\n      <td>0.000000e+00</td>\n      <td>0</td>\n    </tr>\n    <tr>\n      <th>...</th>\n      <td>...</td>\n      <td>...</td>\n      <td>...</td>\n      <td>...</td>\n      <td>...</td>\n      <td>...</td>\n    </tr>\n    <tr>\n      <th>XBC</th>\n      <td>BitcoinPlus</td>\n      <td>Scrypt</td>\n      <td>True</td>\n      <td>PoS</td>\n      <td>1.283270e+05</td>\n      <td>1000000</td>\n    </tr>\n    <tr>\n      <th>DVTC</th>\n      <td>DivotyCoin</td>\n      <td>Scrypt</td>\n      <td>False</td>\n      <td>PoW/PoS</td>\n      <td>2.149121e+07</td>\n      <td>100000000</td>\n    </tr>\n    <tr>\n      <th>GIOT</th>\n      <td>Giotto Coin</td>\n      <td>Scrypt</td>\n      <td>False</td>\n      <td>PoW/PoS</td>\n      <td>NaN</td>\n      <td>233100000</td>\n    </tr>\n    <tr>\n      <th>OPSC</th>\n      <td>OpenSourceCoin</td>\n      <td>SHA-256</td>\n      <td>False</td>\n      <td>PoW/PoS</td>\n      <td>NaN</td>\n      <td>21000000</td>\n    </tr>\n    <tr>\n      <th>PUNK</th>\n      <td>SteamPunk</td>\n      <td>PoS</td>\n      <td>False</td>\n      <td>PoS</td>\n      <td>NaN</td>\n      <td>40000000</td>\n    </tr>\n  </tbody>\n</table>\n<p>1252 rows × 6 columns</p>\n</div>"
     },
     "metadata": {},
     "execution_count": 346
    }
   ],
   "source": [
    "# Keep only necessary columns:\n",
    "# 'CoinName','Algorithm','IsTrading','ProofType','TotalCoinsMined','TotalCoinSupply'\n",
    "crypto_df\n"
   ]
  },
  {
   "cell_type": "code",
   "execution_count": 347,
   "metadata": {},
   "outputs": [
    {
     "output_type": "execute_result",
     "data": {
      "text/plain": [
       "         CoinName    Algorithm  IsTrading ProofType  TotalCoinsMined  \\\n",
       "42        42 Coin       Scrypt       True   PoW/PoS     4.199995e+01   \n",
       "365       365Coin          X11       True   PoW/PoS              NaN   \n",
       "404       404Coin       Scrypt       True   PoW/PoS     1.055185e+09   \n",
       "611     SixEleven      SHA-256       True       PoW              NaN   \n",
       "808           808      SHA-256       True   PoW/PoS     0.000000e+00   \n",
       "...           ...          ...        ...       ...              ...   \n",
       "SERO   Super Zero       Ethash       True       PoW              NaN   \n",
       "UOS           UOS      SHA-256       True      DPoI              NaN   \n",
       "BDX        Beldex  CryptoNight       True       PoW     9.802226e+08   \n",
       "ZEN       Horizen     Equihash       True       PoW     7.296538e+06   \n",
       "XBC   BitcoinPlus       Scrypt       True       PoS     1.283270e+05   \n",
       "\n",
       "     TotalCoinSupply  \n",
       "42                42  \n",
       "365       2300000000  \n",
       "404        532000000  \n",
       "611           611000  \n",
       "808                0  \n",
       "...              ...  \n",
       "SERO      1000000000  \n",
       "UOS       1000000000  \n",
       "BDX       1400222610  \n",
       "ZEN         21000000  \n",
       "XBC          1000000  \n",
       "\n",
       "[1144 rows x 6 columns]"
      ],
      "text/html": "<div>\n<style scoped>\n    .dataframe tbody tr th:only-of-type {\n        vertical-align: middle;\n    }\n\n    .dataframe tbody tr th {\n        vertical-align: top;\n    }\n\n    .dataframe thead th {\n        text-align: right;\n    }\n</style>\n<table border=\"1\" class=\"dataframe\">\n  <thead>\n    <tr style=\"text-align: right;\">\n      <th></th>\n      <th>CoinName</th>\n      <th>Algorithm</th>\n      <th>IsTrading</th>\n      <th>ProofType</th>\n      <th>TotalCoinsMined</th>\n      <th>TotalCoinSupply</th>\n    </tr>\n  </thead>\n  <tbody>\n    <tr>\n      <th>42</th>\n      <td>42 Coin</td>\n      <td>Scrypt</td>\n      <td>True</td>\n      <td>PoW/PoS</td>\n      <td>4.199995e+01</td>\n      <td>42</td>\n    </tr>\n    <tr>\n      <th>365</th>\n      <td>365Coin</td>\n      <td>X11</td>\n      <td>True</td>\n      <td>PoW/PoS</td>\n      <td>NaN</td>\n      <td>2300000000</td>\n    </tr>\n    <tr>\n      <th>404</th>\n      <td>404Coin</td>\n      <td>Scrypt</td>\n      <td>True</td>\n      <td>PoW/PoS</td>\n      <td>1.055185e+09</td>\n      <td>532000000</td>\n    </tr>\n    <tr>\n      <th>611</th>\n      <td>SixEleven</td>\n      <td>SHA-256</td>\n      <td>True</td>\n      <td>PoW</td>\n      <td>NaN</td>\n      <td>611000</td>\n    </tr>\n    <tr>\n      <th>808</th>\n      <td>808</td>\n      <td>SHA-256</td>\n      <td>True</td>\n      <td>PoW/PoS</td>\n      <td>0.000000e+00</td>\n      <td>0</td>\n    </tr>\n    <tr>\n      <th>...</th>\n      <td>...</td>\n      <td>...</td>\n      <td>...</td>\n      <td>...</td>\n      <td>...</td>\n      <td>...</td>\n    </tr>\n    <tr>\n      <th>SERO</th>\n      <td>Super Zero</td>\n      <td>Ethash</td>\n      <td>True</td>\n      <td>PoW</td>\n      <td>NaN</td>\n      <td>1000000000</td>\n    </tr>\n    <tr>\n      <th>UOS</th>\n      <td>UOS</td>\n      <td>SHA-256</td>\n      <td>True</td>\n      <td>DPoI</td>\n      <td>NaN</td>\n      <td>1000000000</td>\n    </tr>\n    <tr>\n      <th>BDX</th>\n      <td>Beldex</td>\n      <td>CryptoNight</td>\n      <td>True</td>\n      <td>PoW</td>\n      <td>9.802226e+08</td>\n      <td>1400222610</td>\n    </tr>\n    <tr>\n      <th>ZEN</th>\n      <td>Horizen</td>\n      <td>Equihash</td>\n      <td>True</td>\n      <td>PoW</td>\n      <td>7.296538e+06</td>\n      <td>21000000</td>\n    </tr>\n    <tr>\n      <th>XBC</th>\n      <td>BitcoinPlus</td>\n      <td>Scrypt</td>\n      <td>True</td>\n      <td>PoS</td>\n      <td>1.283270e+05</td>\n      <td>1000000</td>\n    </tr>\n  </tbody>\n</table>\n<p>1144 rows × 6 columns</p>\n</div>"
     },
     "metadata": {},
     "execution_count": 347
    }
   ],
   "source": [
    "# Keep only cryptocurrencies that are trading\n",
    "crypto_df.drop(crypto_df[crypto_df[\"IsTrading\"] == False].index, inplace=True)\n",
    "crypto_df"
   ]
  },
  {
   "cell_type": "code",
   "execution_count": 348,
   "metadata": {},
   "outputs": [],
   "source": [
    "# Keep only cryptocurrencies with a working algorithm\n",
    "crypto_df.dropna(subset=[\"Algorithm\"], inplace=True)"
   ]
  },
  {
   "cell_type": "code",
   "execution_count": 349,
   "metadata": {},
   "outputs": [],
   "source": [
    "# Remove the \"IsTrading\" column\n",
    "crypto_df.drop([\"IsTrading\"], axis=1, inplace=True)"
   ]
  },
  {
   "cell_type": "code",
   "execution_count": 350,
   "metadata": {},
   "outputs": [
    {
     "output_type": "execute_result",
     "data": {
      "text/plain": [
       "         CoinName    Algorithm ProofType  TotalCoinsMined TotalCoinSupply\n",
       "42        42 Coin       Scrypt   PoW/PoS     4.199995e+01              42\n",
       "404       404Coin       Scrypt   PoW/PoS     1.055185e+09       532000000\n",
       "808           808      SHA-256   PoW/PoS     0.000000e+00               0\n",
       "1337    EliteCoin          X13   PoW/PoS     2.927942e+10    314159265359\n",
       "BTC       Bitcoin      SHA-256       PoW     1.792718e+07        21000000\n",
       "...           ...          ...       ...              ...             ...\n",
       "ZEPH       ZEPHYR      SHA-256      DPoS     2.000000e+09      2000000000\n",
       "GAP       Gapcoin       Scrypt   PoW/PoS     1.493105e+07       250000000\n",
       "BDX        Beldex  CryptoNight       PoW     9.802226e+08      1400222610\n",
       "ZEN       Horizen     Equihash       PoW     7.296538e+06        21000000\n",
       "XBC   BitcoinPlus       Scrypt       PoS     1.283270e+05         1000000\n",
       "\n",
       "[685 rows x 5 columns]"
      ],
      "text/html": "<div>\n<style scoped>\n    .dataframe tbody tr th:only-of-type {\n        vertical-align: middle;\n    }\n\n    .dataframe tbody tr th {\n        vertical-align: top;\n    }\n\n    .dataframe thead th {\n        text-align: right;\n    }\n</style>\n<table border=\"1\" class=\"dataframe\">\n  <thead>\n    <tr style=\"text-align: right;\">\n      <th></th>\n      <th>CoinName</th>\n      <th>Algorithm</th>\n      <th>ProofType</th>\n      <th>TotalCoinsMined</th>\n      <th>TotalCoinSupply</th>\n    </tr>\n  </thead>\n  <tbody>\n    <tr>\n      <th>42</th>\n      <td>42 Coin</td>\n      <td>Scrypt</td>\n      <td>PoW/PoS</td>\n      <td>4.199995e+01</td>\n      <td>42</td>\n    </tr>\n    <tr>\n      <th>404</th>\n      <td>404Coin</td>\n      <td>Scrypt</td>\n      <td>PoW/PoS</td>\n      <td>1.055185e+09</td>\n      <td>532000000</td>\n    </tr>\n    <tr>\n      <th>808</th>\n      <td>808</td>\n      <td>SHA-256</td>\n      <td>PoW/PoS</td>\n      <td>0.000000e+00</td>\n      <td>0</td>\n    </tr>\n    <tr>\n      <th>1337</th>\n      <td>EliteCoin</td>\n      <td>X13</td>\n      <td>PoW/PoS</td>\n      <td>2.927942e+10</td>\n      <td>314159265359</td>\n    </tr>\n    <tr>\n      <th>BTC</th>\n      <td>Bitcoin</td>\n      <td>SHA-256</td>\n      <td>PoW</td>\n      <td>1.792718e+07</td>\n      <td>21000000</td>\n    </tr>\n    <tr>\n      <th>...</th>\n      <td>...</td>\n      <td>...</td>\n      <td>...</td>\n      <td>...</td>\n      <td>...</td>\n    </tr>\n    <tr>\n      <th>ZEPH</th>\n      <td>ZEPHYR</td>\n      <td>SHA-256</td>\n      <td>DPoS</td>\n      <td>2.000000e+09</td>\n      <td>2000000000</td>\n    </tr>\n    <tr>\n      <th>GAP</th>\n      <td>Gapcoin</td>\n      <td>Scrypt</td>\n      <td>PoW/PoS</td>\n      <td>1.493105e+07</td>\n      <td>250000000</td>\n    </tr>\n    <tr>\n      <th>BDX</th>\n      <td>Beldex</td>\n      <td>CryptoNight</td>\n      <td>PoW</td>\n      <td>9.802226e+08</td>\n      <td>1400222610</td>\n    </tr>\n    <tr>\n      <th>ZEN</th>\n      <td>Horizen</td>\n      <td>Equihash</td>\n      <td>PoW</td>\n      <td>7.296538e+06</td>\n      <td>21000000</td>\n    </tr>\n    <tr>\n      <th>XBC</th>\n      <td>BitcoinPlus</td>\n      <td>Scrypt</td>\n      <td>PoS</td>\n      <td>1.283270e+05</td>\n      <td>1000000</td>\n    </tr>\n  </tbody>\n</table>\n<p>685 rows × 5 columns</p>\n</div>"
     },
     "metadata": {},
     "execution_count": 350
    }
   ],
   "source": [
    "# Remove rows with at least 1 null value\n",
    "crypto_df.dropna(inplace=True)\n",
    "crypto_df"
   ]
  },
  {
   "cell_type": "code",
   "execution_count": 351,
   "metadata": {},
   "outputs": [
    {
     "output_type": "execute_result",
     "data": {
      "text/plain": [
       "         CoinName    Algorithm ProofType  TotalCoinsMined TotalCoinSupply\n",
       "42        42 Coin       Scrypt   PoW/PoS     4.199995e+01              42\n",
       "404       404Coin       Scrypt   PoW/PoS     1.055185e+09       532000000\n",
       "1337    EliteCoin          X13   PoW/PoS     2.927942e+10    314159265359\n",
       "BTC       Bitcoin      SHA-256       PoW     1.792718e+07        21000000\n",
       "ETH      Ethereum       Ethash       PoW     1.076842e+08               0\n",
       "...           ...          ...       ...              ...             ...\n",
       "ZEPH       ZEPHYR      SHA-256      DPoS     2.000000e+09      2000000000\n",
       "GAP       Gapcoin       Scrypt   PoW/PoS     1.493105e+07       250000000\n",
       "BDX        Beldex  CryptoNight       PoW     9.802226e+08      1400222610\n",
       "ZEN       Horizen     Equihash       PoW     7.296538e+06        21000000\n",
       "XBC   BitcoinPlus       Scrypt       PoS     1.283270e+05         1000000\n",
       "\n",
       "[533 rows x 5 columns]"
      ],
      "text/html": "<div>\n<style scoped>\n    .dataframe tbody tr th:only-of-type {\n        vertical-align: middle;\n    }\n\n    .dataframe tbody tr th {\n        vertical-align: top;\n    }\n\n    .dataframe thead th {\n        text-align: right;\n    }\n</style>\n<table border=\"1\" class=\"dataframe\">\n  <thead>\n    <tr style=\"text-align: right;\">\n      <th></th>\n      <th>CoinName</th>\n      <th>Algorithm</th>\n      <th>ProofType</th>\n      <th>TotalCoinsMined</th>\n      <th>TotalCoinSupply</th>\n    </tr>\n  </thead>\n  <tbody>\n    <tr>\n      <th>42</th>\n      <td>42 Coin</td>\n      <td>Scrypt</td>\n      <td>PoW/PoS</td>\n      <td>4.199995e+01</td>\n      <td>42</td>\n    </tr>\n    <tr>\n      <th>404</th>\n      <td>404Coin</td>\n      <td>Scrypt</td>\n      <td>PoW/PoS</td>\n      <td>1.055185e+09</td>\n      <td>532000000</td>\n    </tr>\n    <tr>\n      <th>1337</th>\n      <td>EliteCoin</td>\n      <td>X13</td>\n      <td>PoW/PoS</td>\n      <td>2.927942e+10</td>\n      <td>314159265359</td>\n    </tr>\n    <tr>\n      <th>BTC</th>\n      <td>Bitcoin</td>\n      <td>SHA-256</td>\n      <td>PoW</td>\n      <td>1.792718e+07</td>\n      <td>21000000</td>\n    </tr>\n    <tr>\n      <th>ETH</th>\n      <td>Ethereum</td>\n      <td>Ethash</td>\n      <td>PoW</td>\n      <td>1.076842e+08</td>\n      <td>0</td>\n    </tr>\n    <tr>\n      <th>...</th>\n      <td>...</td>\n      <td>...</td>\n      <td>...</td>\n      <td>...</td>\n      <td>...</td>\n    </tr>\n    <tr>\n      <th>ZEPH</th>\n      <td>ZEPHYR</td>\n      <td>SHA-256</td>\n      <td>DPoS</td>\n      <td>2.000000e+09</td>\n      <td>2000000000</td>\n    </tr>\n    <tr>\n      <th>GAP</th>\n      <td>Gapcoin</td>\n      <td>Scrypt</td>\n      <td>PoW/PoS</td>\n      <td>1.493105e+07</td>\n      <td>250000000</td>\n    </tr>\n    <tr>\n      <th>BDX</th>\n      <td>Beldex</td>\n      <td>CryptoNight</td>\n      <td>PoW</td>\n      <td>9.802226e+08</td>\n      <td>1400222610</td>\n    </tr>\n    <tr>\n      <th>ZEN</th>\n      <td>Horizen</td>\n      <td>Equihash</td>\n      <td>PoW</td>\n      <td>7.296538e+06</td>\n      <td>21000000</td>\n    </tr>\n    <tr>\n      <th>XBC</th>\n      <td>BitcoinPlus</td>\n      <td>Scrypt</td>\n      <td>PoS</td>\n      <td>1.283270e+05</td>\n      <td>1000000</td>\n    </tr>\n  </tbody>\n</table>\n<p>533 rows × 5 columns</p>\n</div>"
     },
     "metadata": {},
     "execution_count": 351
    }
   ],
   "source": [
    "# Remove rows with cryptocurrencies having no coins mined\n",
    "crypto_df.drop(crypto_df[crypto_df[\"TotalCoinsMined\"] == 0].index, inplace=True)\n",
    "crypto_df"
   ]
  },
  {
   "cell_type": "code",
   "execution_count": 352,
   "metadata": {},
   "outputs": [
    {
     "output_type": "execute_result",
     "data": {
      "text/plain": [
       "         CoinName    Algorithm ProofType  TotalCoinsMined TotalCoinSupply\n",
       "42        42 Coin       Scrypt   PoW/PoS     4.199995e+01              42\n",
       "404       404Coin       Scrypt   PoW/PoS     1.055185e+09       532000000\n",
       "1337    EliteCoin          X13   PoW/PoS     2.927942e+10    314159265359\n",
       "BTC       Bitcoin      SHA-256       PoW     1.792718e+07        21000000\n",
       "ETH      Ethereum       Ethash       PoW     1.076842e+08               0\n",
       "...           ...          ...       ...              ...             ...\n",
       "ZEPH       ZEPHYR      SHA-256      DPoS     2.000000e+09      2000000000\n",
       "GAP       Gapcoin       Scrypt   PoW/PoS     1.493105e+07       250000000\n",
       "BDX        Beldex  CryptoNight       PoW     9.802226e+08      1400222610\n",
       "ZEN       Horizen     Equihash       PoW     7.296538e+06        21000000\n",
       "XBC   BitcoinPlus       Scrypt       PoS     1.283270e+05         1000000\n",
       "\n",
       "[533 rows x 5 columns]"
      ],
      "text/html": "<div>\n<style scoped>\n    .dataframe tbody tr th:only-of-type {\n        vertical-align: middle;\n    }\n\n    .dataframe tbody tr th {\n        vertical-align: top;\n    }\n\n    .dataframe thead th {\n        text-align: right;\n    }\n</style>\n<table border=\"1\" class=\"dataframe\">\n  <thead>\n    <tr style=\"text-align: right;\">\n      <th></th>\n      <th>CoinName</th>\n      <th>Algorithm</th>\n      <th>ProofType</th>\n      <th>TotalCoinsMined</th>\n      <th>TotalCoinSupply</th>\n    </tr>\n  </thead>\n  <tbody>\n    <tr>\n      <th>42</th>\n      <td>42 Coin</td>\n      <td>Scrypt</td>\n      <td>PoW/PoS</td>\n      <td>4.199995e+01</td>\n      <td>42</td>\n    </tr>\n    <tr>\n      <th>404</th>\n      <td>404Coin</td>\n      <td>Scrypt</td>\n      <td>PoW/PoS</td>\n      <td>1.055185e+09</td>\n      <td>532000000</td>\n    </tr>\n    <tr>\n      <th>1337</th>\n      <td>EliteCoin</td>\n      <td>X13</td>\n      <td>PoW/PoS</td>\n      <td>2.927942e+10</td>\n      <td>314159265359</td>\n    </tr>\n    <tr>\n      <th>BTC</th>\n      <td>Bitcoin</td>\n      <td>SHA-256</td>\n      <td>PoW</td>\n      <td>1.792718e+07</td>\n      <td>21000000</td>\n    </tr>\n    <tr>\n      <th>ETH</th>\n      <td>Ethereum</td>\n      <td>Ethash</td>\n      <td>PoW</td>\n      <td>1.076842e+08</td>\n      <td>0</td>\n    </tr>\n    <tr>\n      <th>...</th>\n      <td>...</td>\n      <td>...</td>\n      <td>...</td>\n      <td>...</td>\n      <td>...</td>\n    </tr>\n    <tr>\n      <th>ZEPH</th>\n      <td>ZEPHYR</td>\n      <td>SHA-256</td>\n      <td>DPoS</td>\n      <td>2.000000e+09</td>\n      <td>2000000000</td>\n    </tr>\n    <tr>\n      <th>GAP</th>\n      <td>Gapcoin</td>\n      <td>Scrypt</td>\n      <td>PoW/PoS</td>\n      <td>1.493105e+07</td>\n      <td>250000000</td>\n    </tr>\n    <tr>\n      <th>BDX</th>\n      <td>Beldex</td>\n      <td>CryptoNight</td>\n      <td>PoW</td>\n      <td>9.802226e+08</td>\n      <td>1400222610</td>\n    </tr>\n    <tr>\n      <th>ZEN</th>\n      <td>Horizen</td>\n      <td>Equihash</td>\n      <td>PoW</td>\n      <td>7.296538e+06</td>\n      <td>21000000</td>\n    </tr>\n    <tr>\n      <th>XBC</th>\n      <td>BitcoinPlus</td>\n      <td>Scrypt</td>\n      <td>PoS</td>\n      <td>1.283270e+05</td>\n      <td>1000000</td>\n    </tr>\n  </tbody>\n</table>\n<p>533 rows × 5 columns</p>\n</div>"
     },
     "metadata": {},
     "execution_count": 352
    }
   ],
   "source": [
    "# Drop rows where there are 'N/A' text values\n",
    "crypto_df[crypto_df != \"N/A\"].dropna(inplace=True)\n",
    "crypto_df"
   ]
  },
  {
   "cell_type": "code",
   "execution_count": 353,
   "metadata": {},
   "outputs": [
    {
     "output_type": "execute_result",
     "data": {
      "text/plain": [
       "       CoinName\n",
       "42      42 Coin\n",
       "404     404Coin\n",
       "1337  EliteCoin\n",
       "BTC     Bitcoin\n",
       "ETH    Ethereum"
      ],
      "text/html": "<div>\n<style scoped>\n    .dataframe tbody tr th:only-of-type {\n        vertical-align: middle;\n    }\n\n    .dataframe tbody tr th {\n        vertical-align: top;\n    }\n\n    .dataframe thead th {\n        text-align: right;\n    }\n</style>\n<table border=\"1\" class=\"dataframe\">\n  <thead>\n    <tr style=\"text-align: right;\">\n      <th></th>\n      <th>CoinName</th>\n    </tr>\n  </thead>\n  <tbody>\n    <tr>\n      <th>42</th>\n      <td>42 Coin</td>\n    </tr>\n    <tr>\n      <th>404</th>\n      <td>404Coin</td>\n    </tr>\n    <tr>\n      <th>1337</th>\n      <td>EliteCoin</td>\n    </tr>\n    <tr>\n      <th>BTC</th>\n      <td>Bitcoin</td>\n    </tr>\n    <tr>\n      <th>ETH</th>\n      <td>Ethereum</td>\n    </tr>\n  </tbody>\n</table>\n</div>"
     },
     "metadata": {},
     "execution_count": 353
    }
   ],
   "source": [
    "# Store the 'CoinName'column in its own DataFrame prior to dropping it from crypto_df\n",
    "coin_names = crypto_df[\"CoinName\"]\n",
    "coin_df = coin_names.to_frame()\n",
    "coin_df.head()"
   ]
  },
  {
   "cell_type": "code",
   "execution_count": 354,
   "metadata": {},
   "outputs": [],
   "source": [
    "# Drop the 'CoinName' column since it's not going to be used on the clustering algorithm\n",
    "crypto_df.drop([\"CoinName\"], axis=1, inplace=True)"
   ]
  },
  {
   "cell_type": "code",
   "execution_count": 355,
   "metadata": {},
   "outputs": [
    {
     "output_type": "execute_result",
     "data": {
      "text/plain": [
       "     Algorithm ProofType  TotalCoinsMined TotalCoinSupply\n",
       "42      Scrypt   PoW/PoS     4.199995e+01              42\n",
       "404     Scrypt   PoW/PoS     1.055185e+09       532000000\n",
       "1337       X13   PoW/PoS     2.927942e+10    314159265359\n",
       "BTC    SHA-256       PoW     1.792718e+07        21000000\n",
       "ETH     Ethash       PoW     1.076842e+08               0"
      ],
      "text/html": "<div>\n<style scoped>\n    .dataframe tbody tr th:only-of-type {\n        vertical-align: middle;\n    }\n\n    .dataframe tbody tr th {\n        vertical-align: top;\n    }\n\n    .dataframe thead th {\n        text-align: right;\n    }\n</style>\n<table border=\"1\" class=\"dataframe\">\n  <thead>\n    <tr style=\"text-align: right;\">\n      <th></th>\n      <th>Algorithm</th>\n      <th>ProofType</th>\n      <th>TotalCoinsMined</th>\n      <th>TotalCoinSupply</th>\n    </tr>\n  </thead>\n  <tbody>\n    <tr>\n      <th>42</th>\n      <td>Scrypt</td>\n      <td>PoW/PoS</td>\n      <td>4.199995e+01</td>\n      <td>42</td>\n    </tr>\n    <tr>\n      <th>404</th>\n      <td>Scrypt</td>\n      <td>PoW/PoS</td>\n      <td>1.055185e+09</td>\n      <td>532000000</td>\n    </tr>\n    <tr>\n      <th>1337</th>\n      <td>X13</td>\n      <td>PoW/PoS</td>\n      <td>2.927942e+10</td>\n      <td>314159265359</td>\n    </tr>\n    <tr>\n      <th>BTC</th>\n      <td>SHA-256</td>\n      <td>PoW</td>\n      <td>1.792718e+07</td>\n      <td>21000000</td>\n    </tr>\n    <tr>\n      <th>ETH</th>\n      <td>Ethash</td>\n      <td>PoW</td>\n      <td>1.076842e+08</td>\n      <td>0</td>\n    </tr>\n  </tbody>\n</table>\n</div>"
     },
     "metadata": {},
     "execution_count": 355
    }
   ],
   "source": [
    "# Drop the 'CoinName' column since it's not going to be used on the clustering algorithm\n",
    "crypto_df.head()\n"
   ]
  },
  {
   "cell_type": "code",
   "execution_count": 356,
   "metadata": {},
   "outputs": [],
   "source": [
    "# Create dummy variables for text features\n",
    "X = pd.get_dummies(crypto_df, columns=[\"Algorithm\", \"ProofType\"])"
   ]
  },
  {
   "cell_type": "code",
   "execution_count": 357,
   "metadata": {},
   "outputs": [],
   "source": [
    "# Standardize data\n",
    "X_scaled = StandardScaler().fit_transform(X)"
   ]
  },
  {
   "cell_type": "markdown",
   "metadata": {},
   "source": [
    "### Reducing Dimensions Using PCA"
   ]
  },
  {
   "cell_type": "code",
   "execution_count": 358,
   "metadata": {},
   "outputs": [],
   "source": [
    "# Use PCA to reduce dimensions to 3 principal components\n",
    "pca = PCA(n_components=3)\n",
    "crypto_data_pca = pca.fit_transform(X_scaled)"
   ]
  },
  {
   "cell_type": "code",
   "execution_count": 359,
   "metadata": {},
   "outputs": [
    {
     "output_type": "execute_result",
     "data": {
      "text/plain": [
       "          PC 1      PC 2      PC 3\n",
       "42   -0.348551  1.031048 -0.646522\n",
       "404  -0.331801  1.031100 -0.646894\n",
       "1337  2.317295  1.644799 -0.655278\n",
       "BTC  -0.156223 -1.315014  0.253647\n",
       "ETH  -0.154460 -2.047994  0.417788\n",
       "LTC  -0.174539 -1.127320 -0.041372\n",
       "DASH -0.410022  1.248734 -0.564891\n",
       "XMR  -0.162753 -2.170555  0.450964\n",
       "ETC  -0.152891 -2.048106  0.417783\n",
       "ZEC  -0.132110 -1.985664  0.467174"
      ],
      "text/html": "<div>\n<style scoped>\n    .dataframe tbody tr th:only-of-type {\n        vertical-align: middle;\n    }\n\n    .dataframe tbody tr th {\n        vertical-align: top;\n    }\n\n    .dataframe thead th {\n        text-align: right;\n    }\n</style>\n<table border=\"1\" class=\"dataframe\">\n  <thead>\n    <tr style=\"text-align: right;\">\n      <th></th>\n      <th>PC 1</th>\n      <th>PC 2</th>\n      <th>PC 3</th>\n    </tr>\n  </thead>\n  <tbody>\n    <tr>\n      <th>42</th>\n      <td>-0.348551</td>\n      <td>1.031048</td>\n      <td>-0.646522</td>\n    </tr>\n    <tr>\n      <th>404</th>\n      <td>-0.331801</td>\n      <td>1.031100</td>\n      <td>-0.646894</td>\n    </tr>\n    <tr>\n      <th>1337</th>\n      <td>2.317295</td>\n      <td>1.644799</td>\n      <td>-0.655278</td>\n    </tr>\n    <tr>\n      <th>BTC</th>\n      <td>-0.156223</td>\n      <td>-1.315014</td>\n      <td>0.253647</td>\n    </tr>\n    <tr>\n      <th>ETH</th>\n      <td>-0.154460</td>\n      <td>-2.047994</td>\n      <td>0.417788</td>\n    </tr>\n    <tr>\n      <th>LTC</th>\n      <td>-0.174539</td>\n      <td>-1.127320</td>\n      <td>-0.041372</td>\n    </tr>\n    <tr>\n      <th>DASH</th>\n      <td>-0.410022</td>\n      <td>1.248734</td>\n      <td>-0.564891</td>\n    </tr>\n    <tr>\n      <th>XMR</th>\n      <td>-0.162753</td>\n      <td>-2.170555</td>\n      <td>0.450964</td>\n    </tr>\n    <tr>\n      <th>ETC</th>\n      <td>-0.152891</td>\n      <td>-2.048106</td>\n      <td>0.417783</td>\n    </tr>\n    <tr>\n      <th>ZEC</th>\n      <td>-0.132110</td>\n      <td>-1.985664</td>\n      <td>0.467174</td>\n    </tr>\n  </tbody>\n</table>\n</div>"
     },
     "metadata": {},
     "execution_count": 359
    }
   ],
   "source": [
    "# Create a DataFrame with the principal components data\n",
    "pcs_df = pd.DataFrame(crypto_data_pca, columns=[\"PC 1\",\"PC 2\",\"PC 3\"], index=crypto_df.index)\n",
    "pcs_df.head(10)"
   ]
  },
  {
   "cell_type": "markdown",
   "metadata": {},
   "source": [
    "### Clustering Crytocurrencies Using K-Means\n",
    "\n",
    "#### Find the Best Value for `k` Using the Elbow Curve"
   ]
  },
  {
   "cell_type": "code",
   "execution_count": 360,
   "metadata": {},
   "outputs": [
    {
     "output_type": "display_data",
     "data": {},
     "metadata": {}
    },
    {
     "output_type": "execute_result",
     "data": {
      "text/html": "<div id='1304'>\n\n\n\n\n\n  <div class=\"bk-root\" id=\"97a6f806-395f-4dc3-8d58-dffa6af11fe1\" data-root-id=\"1304\"></div>\n</div>\n<script type=\"application/javascript\">(function(root) {\n  function embed_document(root) {\n    var docs_json = {\"09d5833f-39cf-4acc-ac6b-b1a8d5cf1251\":{\"roots\":{\"references\":[{\"attributes\":{\"axis\":{\"id\":\"1318\"},\"grid_line_color\":null,\"ticker\":null},\"id\":\"1321\",\"type\":\"Grid\"},{\"attributes\":{\"data\":{\"inertia\":{\"__ndarray__\":\"a44Fbp99rEBExDp9Z1SjQI3hZv5KRZdAGmJPZBpQgECHGca8yAt1QJeFzxMNAHFAFyyr0Jwna0C5vNPvwJVlQCge1f3Mn2FA5aNUhfggXkA=\",\"dtype\":\"float64\",\"order\":\"little\",\"shape\":[10]},\"k\":[1,2,3,4,5,6,7,8,9,10]},\"selected\":{\"id\":\"1340\"},\"selection_policy\":{\"id\":\"1359\"}},\"id\":\"1339\",\"type\":\"ColumnDataSource\"},{\"attributes\":{\"margin\":[5,5,5,5],\"name\":\"HSpacer02076\",\"sizing_mode\":\"stretch_width\"},\"id\":\"1368\",\"type\":\"Spacer\"},{\"attributes\":{\"axis_label\":\"inertia\",\"bounds\":\"auto\",\"formatter\":{\"id\":\"1353\"},\"major_label_orientation\":\"horizontal\",\"ticker\":{\"id\":\"1323\"}},\"id\":\"1322\",\"type\":\"LinearAxis\"},{\"attributes\":{\"callback\":null,\"renderers\":[{\"id\":\"1345\"}],\"tags\":[\"hv_created\"],\"tooltips\":[[\"k\",\"@{k}\"],[\"inertia\",\"@{inertia}\"]]},\"id\":\"1308\",\"type\":\"HoverTool\"},{\"attributes\":{\"overlay\":{\"id\":\"1331\"}},\"id\":\"1329\",\"type\":\"BoxZoomTool\"},{\"attributes\":{\"end\":10.0,\"reset_end\":10.0,\"reset_start\":1.0,\"start\":1.0,\"tags\":[[[\"k\",\"k\",null]]]},\"id\":\"1306\",\"type\":\"Range1d\"},{\"attributes\":{\"margin\":[5,5,5,5],\"name\":\"HSpacer02075\",\"sizing_mode\":\"stretch_width\"},\"id\":\"1305\",\"type\":\"Spacer\"},{\"attributes\":{},\"id\":\"1316\",\"type\":\"LinearScale\"},{\"attributes\":{\"axis_label\":\"k\",\"bounds\":\"auto\",\"formatter\":{\"id\":\"1349\"},\"major_label_orientation\":\"horizontal\",\"ticker\":{\"id\":\"1347\"}},\"id\":\"1318\",\"type\":\"LinearAxis\"},{\"attributes\":{\"text\":\"Elbow Curve\",\"text_color\":{\"value\":\"black\"},\"text_font_size\":{\"value\":\"12pt\"}},\"id\":\"1310\",\"type\":\"Title\"},{\"attributes\":{},\"id\":\"1359\",\"type\":\"UnionRenderers\"},{\"attributes\":{\"line_alpha\":0.2,\"line_color\":\"#1f77b3\",\"line_width\":2,\"x\":{\"field\":\"k\"},\"y\":{\"field\":\"inertia\"}},\"id\":\"1344\",\"type\":\"Line\"},{\"attributes\":{},\"id\":\"1327\",\"type\":\"PanTool\"},{\"attributes\":{\"source\":{\"id\":\"1339\"}},\"id\":\"1346\",\"type\":\"CDSView\"},{\"attributes\":{\"axis\":{\"id\":\"1322\"},\"dimension\":1,\"grid_line_color\":null,\"ticker\":null},\"id\":\"1325\",\"type\":\"Grid\"},{\"attributes\":{},\"id\":\"1328\",\"type\":\"WheelZoomTool\"},{\"attributes\":{},\"id\":\"1330\",\"type\":\"ResetTool\"},{\"attributes\":{\"active_drag\":\"auto\",\"active_inspect\":\"auto\",\"active_multi\":null,\"active_scroll\":\"auto\",\"active_tap\":\"auto\",\"tools\":[{\"id\":\"1308\"},{\"id\":\"1326\"},{\"id\":\"1327\"},{\"id\":\"1328\"},{\"id\":\"1329\"},{\"id\":\"1330\"}]},\"id\":\"1332\",\"type\":\"Toolbar\"},{\"attributes\":{\"ticks\":[1,2,3,4,5,6,7,8,9,10]},\"id\":\"1347\",\"type\":\"FixedTicker\"},{\"attributes\":{},\"id\":\"1353\",\"type\":\"BasicTickFormatter\"},{\"attributes\":{},\"id\":\"1340\",\"type\":\"Selection\"},{\"attributes\":{},\"id\":\"1326\",\"type\":\"SaveTool\"},{\"attributes\":{},\"id\":\"1349\",\"type\":\"BasicTickFormatter\"},{\"attributes\":{\"below\":[{\"id\":\"1318\"}],\"center\":[{\"id\":\"1321\"},{\"id\":\"1325\"}],\"left\":[{\"id\":\"1322\"}],\"margin\":[5,5,5,5],\"min_border_bottom\":10,\"min_border_left\":10,\"min_border_right\":10,\"min_border_top\":10,\"plot_height\":300,\"plot_width\":700,\"renderers\":[{\"id\":\"1345\"}],\"sizing_mode\":\"fixed\",\"title\":{\"id\":\"1310\"},\"toolbar\":{\"id\":\"1332\"},\"x_range\":{\"id\":\"1306\"},\"x_scale\":{\"id\":\"1314\"},\"y_range\":{\"id\":\"1307\"},\"y_scale\":{\"id\":\"1316\"}},\"id\":\"1309\",\"subtype\":\"Figure\",\"type\":\"Plot\"},{\"attributes\":{\"line_alpha\":0.1,\"line_color\":\"#1f77b3\",\"line_width\":2,\"x\":{\"field\":\"k\"},\"y\":{\"field\":\"inertia\"}},\"id\":\"1343\",\"type\":\"Line\"},{\"attributes\":{\"end\":3999.441008050664,\"reset_end\":3999.441008050664,\"reset_start\":-232.11445326942584,\"start\":-232.11445326942584,\"tags\":[[[\"inertia\",\"inertia\",null]]]},\"id\":\"1307\",\"type\":\"Range1d\"},{\"attributes\":{},\"id\":\"1314\",\"type\":\"LinearScale\"},{\"attributes\":{\"line_color\":\"#1f77b3\",\"line_width\":2,\"x\":{\"field\":\"k\"},\"y\":{\"field\":\"inertia\"}},\"id\":\"1342\",\"type\":\"Line\"},{\"attributes\":{},\"id\":\"1323\",\"type\":\"BasicTicker\"},{\"attributes\":{\"children\":[{\"id\":\"1305\"},{\"id\":\"1309\"},{\"id\":\"1368\"}],\"margin\":[0,0,0,0],\"name\":\"Row02071\",\"tags\":[\"embedded\"]},\"id\":\"1304\",\"type\":\"Row\"},{\"attributes\":{\"bottom_units\":\"screen\",\"fill_alpha\":0.5,\"fill_color\":\"lightgrey\",\"left_units\":\"screen\",\"level\":\"overlay\",\"line_alpha\":1.0,\"line_color\":\"black\",\"line_dash\":[4,4],\"line_width\":2,\"right_units\":\"screen\",\"top_units\":\"screen\"},\"id\":\"1331\",\"type\":\"BoxAnnotation\"},{\"attributes\":{\"data_source\":{\"id\":\"1339\"},\"glyph\":{\"id\":\"1342\"},\"hover_glyph\":null,\"muted_glyph\":{\"id\":\"1344\"},\"nonselection_glyph\":{\"id\":\"1343\"},\"selection_glyph\":null,\"view\":{\"id\":\"1346\"}},\"id\":\"1345\",\"type\":\"GlyphRenderer\"}],\"root_ids\":[\"1304\"]},\"title\":\"Bokeh Application\",\"version\":\"2.2.3\"}};\n    var render_items = [{\"docid\":\"09d5833f-39cf-4acc-ac6b-b1a8d5cf1251\",\"root_ids\":[\"1304\"],\"roots\":{\"1304\":\"97a6f806-395f-4dc3-8d58-dffa6af11fe1\"}}];\n    root.Bokeh.embed.embed_items_notebook(docs_json, render_items);\n  }\n  if (root.Bokeh !== undefined && root.Bokeh.Panel !== undefined) {\n    embed_document(root);\n  } else {\n    var attempts = 0;\n    var timer = setInterval(function(root) {\n      if (root.Bokeh !== undefined && root.Bokeh.Panel !== undefined) {\n        clearInterval(timer);\n        embed_document(root);\n      } else if (document.readyState == \"complete\") {\n        attempts++;\n        if (attempts > 100) {\n          clearInterval(timer);\n          console.log(\"Bokeh: ERROR: Unable to run BokehJS code because BokehJS library is missing\");\n        }\n      }\n    }, 10, root)\n  }\n})(window);</script>",
      "application/vnd.holoviews_exec.v0+json": "",
      "text/plain": [
       ":Curve   [k]   (inertia)"
      ]
     },
     "metadata": {
      "application/vnd.holoviews_exec.v0+json": {
       "id": "1304"
      }
     },
     "execution_count": 360
    }
   ],
   "source": [
    "inertia = []\n",
    "k = list(range(1, 11))\n",
    "\n",
    "# Calculate the inertia for the range of k values\n",
    "for i in k:\n",
    "    km = KMeans(n_clusters = i, random_state = 0)\n",
    "    km.fit(pcs_df)\n",
    "    inertia.append(km.inertia_)\n",
    "\n",
    "\n",
    "# Create the Elbow Curve using hvPlot\n",
    "elbow_data = {\"k\" : k, \"inertia\": inertia}\n",
    "df_elbow = pd.DataFrame(elbow_data)\n",
    "df_elbow.hvplot.line(x=\"k\", y=\"inertia\", xticks=k, title=\"Elbow Curve\")"
   ]
  },
  {
   "cell_type": "markdown",
   "metadata": {},
   "source": [
    "Running K-Means with `k=<your best value for k here>`\n",
    "4 is our best K value since that is where the curve turns showing an elbow"
   ]
  },
  {
   "cell_type": "code",
   "execution_count": 361,
   "metadata": {},
   "outputs": [
    {
     "output_type": "execute_result",
     "data": {
      "text/plain": [
       "        Algorithm ProofType  TotalCoinsMined TotalCoinSupply     CoinName  \\\n",
       "42         Scrypt   PoW/PoS     4.199995e+01              42      42 Coin   \n",
       "404        Scrypt   PoW/PoS     1.055185e+09       532000000      404Coin   \n",
       "1337          X13   PoW/PoS     2.927942e+10    314159265359    EliteCoin   \n",
       "BTC       SHA-256       PoW     1.792718e+07        21000000      Bitcoin   \n",
       "ETH        Ethash       PoW     1.076842e+08               0     Ethereum   \n",
       "...           ...       ...              ...             ...          ...   \n",
       "ZEPH      SHA-256      DPoS     2.000000e+09      2000000000       ZEPHYR   \n",
       "GAP        Scrypt   PoW/PoS     1.493105e+07       250000000      Gapcoin   \n",
       "BDX   CryptoNight       PoW     9.802226e+08      1400222610       Beldex   \n",
       "ZEN      Equihash       PoW     7.296538e+06        21000000      Horizen   \n",
       "XBC        Scrypt       PoS     1.283270e+05         1000000  BitcoinPlus   \n",
       "\n",
       "          PC 1      PC 2      PC 3  class  \n",
       "42   -0.348551  1.031048 -0.646522      1  \n",
       "404  -0.331801  1.031100 -0.646894      1  \n",
       "1337  2.317295  1.644799 -0.655278      1  \n",
       "BTC  -0.156223 -1.315014  0.253647      0  \n",
       "ETH  -0.154460 -2.047994  0.417788      0  \n",
       "...        ...       ...       ...    ...  \n",
       "ZEPH  2.405386  0.922329 -0.017661      1  \n",
       "GAP  -0.346583  1.030917 -0.646531      1  \n",
       "BDX   0.335905 -2.293765  0.527348      0  \n",
       "ZEN  -0.132111 -1.985664  0.467174      0  \n",
       "XBC  -0.268699  0.758791 -0.295454      1  \n",
       "\n",
       "[533 rows x 9 columns]"
      ],
      "text/html": "<div>\n<style scoped>\n    .dataframe tbody tr th:only-of-type {\n        vertical-align: middle;\n    }\n\n    .dataframe tbody tr th {\n        vertical-align: top;\n    }\n\n    .dataframe thead th {\n        text-align: right;\n    }\n</style>\n<table border=\"1\" class=\"dataframe\">\n  <thead>\n    <tr style=\"text-align: right;\">\n      <th></th>\n      <th>Algorithm</th>\n      <th>ProofType</th>\n      <th>TotalCoinsMined</th>\n      <th>TotalCoinSupply</th>\n      <th>CoinName</th>\n      <th>PC 1</th>\n      <th>PC 2</th>\n      <th>PC 3</th>\n      <th>class</th>\n    </tr>\n  </thead>\n  <tbody>\n    <tr>\n      <th>42</th>\n      <td>Scrypt</td>\n      <td>PoW/PoS</td>\n      <td>4.199995e+01</td>\n      <td>42</td>\n      <td>42 Coin</td>\n      <td>-0.348551</td>\n      <td>1.031048</td>\n      <td>-0.646522</td>\n      <td>1</td>\n    </tr>\n    <tr>\n      <th>404</th>\n      <td>Scrypt</td>\n      <td>PoW/PoS</td>\n      <td>1.055185e+09</td>\n      <td>532000000</td>\n      <td>404Coin</td>\n      <td>-0.331801</td>\n      <td>1.031100</td>\n      <td>-0.646894</td>\n      <td>1</td>\n    </tr>\n    <tr>\n      <th>1337</th>\n      <td>X13</td>\n      <td>PoW/PoS</td>\n      <td>2.927942e+10</td>\n      <td>314159265359</td>\n      <td>EliteCoin</td>\n      <td>2.317295</td>\n      <td>1.644799</td>\n      <td>-0.655278</td>\n      <td>1</td>\n    </tr>\n    <tr>\n      <th>BTC</th>\n      <td>SHA-256</td>\n      <td>PoW</td>\n      <td>1.792718e+07</td>\n      <td>21000000</td>\n      <td>Bitcoin</td>\n      <td>-0.156223</td>\n      <td>-1.315014</td>\n      <td>0.253647</td>\n      <td>0</td>\n    </tr>\n    <tr>\n      <th>ETH</th>\n      <td>Ethash</td>\n      <td>PoW</td>\n      <td>1.076842e+08</td>\n      <td>0</td>\n      <td>Ethereum</td>\n      <td>-0.154460</td>\n      <td>-2.047994</td>\n      <td>0.417788</td>\n      <td>0</td>\n    </tr>\n    <tr>\n      <th>...</th>\n      <td>...</td>\n      <td>...</td>\n      <td>...</td>\n      <td>...</td>\n      <td>...</td>\n      <td>...</td>\n      <td>...</td>\n      <td>...</td>\n      <td>...</td>\n    </tr>\n    <tr>\n      <th>ZEPH</th>\n      <td>SHA-256</td>\n      <td>DPoS</td>\n      <td>2.000000e+09</td>\n      <td>2000000000</td>\n      <td>ZEPHYR</td>\n      <td>2.405386</td>\n      <td>0.922329</td>\n      <td>-0.017661</td>\n      <td>1</td>\n    </tr>\n    <tr>\n      <th>GAP</th>\n      <td>Scrypt</td>\n      <td>PoW/PoS</td>\n      <td>1.493105e+07</td>\n      <td>250000000</td>\n      <td>Gapcoin</td>\n      <td>-0.346583</td>\n      <td>1.030917</td>\n      <td>-0.646531</td>\n      <td>1</td>\n    </tr>\n    <tr>\n      <th>BDX</th>\n      <td>CryptoNight</td>\n      <td>PoW</td>\n      <td>9.802226e+08</td>\n      <td>1400222610</td>\n      <td>Beldex</td>\n      <td>0.335905</td>\n      <td>-2.293765</td>\n      <td>0.527348</td>\n      <td>0</td>\n    </tr>\n    <tr>\n      <th>ZEN</th>\n      <td>Equihash</td>\n      <td>PoW</td>\n      <td>7.296538e+06</td>\n      <td>21000000</td>\n      <td>Horizen</td>\n      <td>-0.132111</td>\n      <td>-1.985664</td>\n      <td>0.467174</td>\n      <td>0</td>\n    </tr>\n    <tr>\n      <th>XBC</th>\n      <td>Scrypt</td>\n      <td>PoS</td>\n      <td>1.283270e+05</td>\n      <td>1000000</td>\n      <td>BitcoinPlus</td>\n      <td>-0.268699</td>\n      <td>0.758791</td>\n      <td>-0.295454</td>\n      <td>1</td>\n    </tr>\n  </tbody>\n</table>\n<p>533 rows × 9 columns</p>\n</div>"
     },
     "metadata": {},
     "execution_count": 361
    }
   ],
   "source": [
    "# Initialize the K-Means model\n",
    "model = KMeans(n_clusters=4, random_state=0)\n",
    "# Fit the model\n",
    "model.fit(pcs_df)\n",
    "# Predict clusters\n",
    "predictions = model.predict(pcs_df)\n",
    "pcs_df[\"class\"] = model.labels_\n",
    "# Create a new DataFrame including predicted clusters and cryptocurrencies features\n",
    "clustered_df = pd.concat([crypto_df,coin_df,pcs_df], axis=1)\n",
    "clustered_df"
   ]
  },
  {
   "cell_type": "markdown",
   "metadata": {},
   "source": [
    "### Visualizing Results\n",
    "\n",
    "#### 3D-Scatter with Clusters"
   ]
  },
  {
   "cell_type": "code",
   "execution_count": 362,
   "metadata": {},
   "outputs": [],
   "source": [
    "def get_clusters(k,data):\n",
    "    model = KMeans(n_clusters=4, random_state=0)\n",
    "    model.fit(pcs_df)\n",
    "\n",
    "    predictions = model.predict(pcs_df)\n",
    "    pcs_df[\"class\"] = model.labels_\n",
    "\n",
    "    return data"
   ]
  },
  {
   "cell_type": "code",
   "execution_count": 363,
   "metadata": {},
   "outputs": [
    {
     "output_type": "execute_result",
     "data": {
      "text/plain": [
       "          PC 1      PC 2      PC 3  class\n",
       "42   -0.348551  1.031048 -0.646522      2\n",
       "404  -0.331801  1.031100 -0.646894      2\n",
       "1337  2.317295  1.644799 -0.655278      2\n",
       "BTC  -0.156223 -1.315014  0.253647      0\n",
       "ETH  -0.154460 -2.047994  0.417788      0"
      ],
      "text/html": "<div>\n<style scoped>\n    .dataframe tbody tr th:only-of-type {\n        vertical-align: middle;\n    }\n\n    .dataframe tbody tr th {\n        vertical-align: top;\n    }\n\n    .dataframe thead th {\n        text-align: right;\n    }\n</style>\n<table border=\"1\" class=\"dataframe\">\n  <thead>\n    <tr style=\"text-align: right;\">\n      <th></th>\n      <th>PC 1</th>\n      <th>PC 2</th>\n      <th>PC 3</th>\n      <th>class</th>\n    </tr>\n  </thead>\n  <tbody>\n    <tr>\n      <th>42</th>\n      <td>-0.348551</td>\n      <td>1.031048</td>\n      <td>-0.646522</td>\n      <td>2</td>\n    </tr>\n    <tr>\n      <th>404</th>\n      <td>-0.331801</td>\n      <td>1.031100</td>\n      <td>-0.646894</td>\n      <td>2</td>\n    </tr>\n    <tr>\n      <th>1337</th>\n      <td>2.317295</td>\n      <td>1.644799</td>\n      <td>-0.655278</td>\n      <td>2</td>\n    </tr>\n    <tr>\n      <th>BTC</th>\n      <td>-0.156223</td>\n      <td>-1.315014</td>\n      <td>0.253647</td>\n      <td>0</td>\n    </tr>\n    <tr>\n      <th>ETH</th>\n      <td>-0.154460</td>\n      <td>-2.047994</td>\n      <td>0.417788</td>\n      <td>0</td>\n    </tr>\n  </tbody>\n</table>\n</div>"
     },
     "metadata": {},
     "execution_count": 363
    }
   ],
   "source": [
    "\n",
    "four_clusters = get_clusters(4, pcs_df)\n",
    "four_clusters.head()"
   ]
  },
  {
   "cell_type": "code",
   "execution_count": 369,
   "metadata": {},
   "outputs": [
    {
     "output_type": "execute_result",
     "data": {
      "text/plain": [
       "     Algorithm ProofType  TotalCoinsMined TotalCoinSupply   CoinName  \\\n",
       "42      Scrypt   PoW/PoS     4.199995e+01              42    42 Coin   \n",
       "404     Scrypt   PoW/PoS     1.055185e+09       532000000    404Coin   \n",
       "1337       X13   PoW/PoS     2.927942e+10    314159265359  EliteCoin   \n",
       "BTC    SHA-256       PoW     1.792718e+07        21000000    Bitcoin   \n",
       "ETH     Ethash       PoW     1.076842e+08               0   Ethereum   \n",
       "\n",
       "          PC 1      PC 2      PC 3  class  \n",
       "42   -0.348551  1.031048 -0.646522      1  \n",
       "404  -0.331801  1.031100 -0.646894      1  \n",
       "1337  2.317295  1.644799 -0.655278      1  \n",
       "BTC  -0.156223 -1.315014  0.253647      0  \n",
       "ETH  -0.154460 -2.047994  0.417788      0  "
      ],
      "text/html": "<div>\n<style scoped>\n    .dataframe tbody tr th:only-of-type {\n        vertical-align: middle;\n    }\n\n    .dataframe tbody tr th {\n        vertical-align: top;\n    }\n\n    .dataframe thead th {\n        text-align: right;\n    }\n</style>\n<table border=\"1\" class=\"dataframe\">\n  <thead>\n    <tr style=\"text-align: right;\">\n      <th></th>\n      <th>Algorithm</th>\n      <th>ProofType</th>\n      <th>TotalCoinsMined</th>\n      <th>TotalCoinSupply</th>\n      <th>CoinName</th>\n      <th>PC 1</th>\n      <th>PC 2</th>\n      <th>PC 3</th>\n      <th>class</th>\n    </tr>\n  </thead>\n  <tbody>\n    <tr>\n      <th>42</th>\n      <td>Scrypt</td>\n      <td>PoW/PoS</td>\n      <td>4.199995e+01</td>\n      <td>42</td>\n      <td>42 Coin</td>\n      <td>-0.348551</td>\n      <td>1.031048</td>\n      <td>-0.646522</td>\n      <td>1</td>\n    </tr>\n    <tr>\n      <th>404</th>\n      <td>Scrypt</td>\n      <td>PoW/PoS</td>\n      <td>1.055185e+09</td>\n      <td>532000000</td>\n      <td>404Coin</td>\n      <td>-0.331801</td>\n      <td>1.031100</td>\n      <td>-0.646894</td>\n      <td>1</td>\n    </tr>\n    <tr>\n      <th>1337</th>\n      <td>X13</td>\n      <td>PoW/PoS</td>\n      <td>2.927942e+10</td>\n      <td>314159265359</td>\n      <td>EliteCoin</td>\n      <td>2.317295</td>\n      <td>1.644799</td>\n      <td>-0.655278</td>\n      <td>1</td>\n    </tr>\n    <tr>\n      <th>BTC</th>\n      <td>SHA-256</td>\n      <td>PoW</td>\n      <td>1.792718e+07</td>\n      <td>21000000</td>\n      <td>Bitcoin</td>\n      <td>-0.156223</td>\n      <td>-1.315014</td>\n      <td>0.253647</td>\n      <td>0</td>\n    </tr>\n    <tr>\n      <th>ETH</th>\n      <td>Ethash</td>\n      <td>PoW</td>\n      <td>1.076842e+08</td>\n      <td>0</td>\n      <td>Ethereum</td>\n      <td>-0.154460</td>\n      <td>-2.047994</td>\n      <td>0.417788</td>\n      <td>0</td>\n    </tr>\n  </tbody>\n</table>\n</div>"
     },
     "metadata": {},
     "execution_count": 369
    }
   ],
   "source": [
    "four_clusters = get_clusters(5, clustered_df)\n",
    "four_clusters.head()"
   ]
  },
  {
   "cell_type": "code",
   "execution_count": 370,
   "metadata": {},
   "outputs": [
    {
     "output_type": "display_data",
     "data": {
      "application/vnd.plotly.v1+json": {
       "config": {
        "plotlyServerURL": "https://plot.ly"
       },
       "data": [
        {
         "hovertemplate": "class=%{marker.color}<br>PC 1=%{x}<br>PC 2=%{y}<br>PC 3=%{z}<extra></extra>",
         "legendgroup": "1",
         "marker": {
          "color": [
           1,
           1,
           1,
           1,
           1,
           1,
           1,
           1,
           1,
           1,
           1,
           1,
           1,
           1,
           1,
           1,
           1,
           1,
           1,
           1,
           1,
           1,
           1,
           1,
           1,
           1,
           1,
           1,
           1,
           1,
           1,
           1,
           1,
           1,
           1,
           1,
           1,
           1,
           1,
           1,
           1,
           1,
           1,
           1,
           1,
           1,
           1,
           1,
           1,
           1,
           1,
           1,
           1,
           1,
           1,
           1,
           1,
           1,
           1,
           1,
           1,
           1,
           1,
           1,
           1,
           1,
           1,
           1,
           1,
           1,
           1,
           1,
           1,
           1,
           1,
           1,
           1,
           1,
           1,
           1,
           1,
           1,
           1,
           1,
           1,
           1,
           1,
           1,
           1,
           1,
           1,
           1,
           1,
           1,
           1,
           1,
           1,
           1,
           1,
           1,
           1,
           1,
           1,
           1,
           1,
           1,
           1,
           1,
           1,
           1,
           1,
           1,
           1,
           1,
           1,
           1,
           1,
           1,
           1,
           1,
           1,
           1,
           1,
           1,
           1,
           1,
           1,
           1,
           1,
           1,
           1,
           1,
           1,
           1,
           1,
           1,
           1,
           1,
           1,
           1,
           1,
           1,
           1,
           1,
           1,
           1,
           1,
           1,
           1,
           1,
           1,
           1,
           1,
           1,
           1,
           1,
           1,
           1,
           1,
           1,
           1,
           1,
           1,
           1,
           1,
           1,
           1,
           1,
           1,
           1,
           1,
           1,
           1,
           1,
           1,
           1,
           1,
           1,
           1,
           1,
           1,
           1,
           1,
           1,
           1,
           1,
           1,
           1,
           1,
           1,
           1,
           1,
           1,
           1,
           1,
           1,
           1,
           1,
           1,
           1,
           1,
           1,
           1,
           1,
           1,
           1,
           1,
           1,
           1,
           1,
           1,
           1,
           1,
           1,
           1,
           1,
           1,
           1,
           1,
           1,
           1,
           1,
           1,
           1,
           1,
           1,
           1,
           1,
           1,
           1,
           1,
           1,
           1,
           1,
           1,
           1,
           1,
           1,
           1,
           1,
           1,
           1,
           1,
           1,
           1,
           1,
           1,
           1,
           1,
           1,
           1,
           1,
           1,
           1,
           1,
           1,
           1,
           1,
           1,
           1,
           1,
           1,
           1,
           1,
           1,
           1,
           1,
           1,
           1,
           1,
           1,
           1,
           1,
           1,
           1,
           1,
           1,
           1,
           1,
           1,
           1,
           1,
           1,
           1,
           1,
           1
          ],
          "coloraxis": "coloraxis",
          "symbol": "circle"
         },
         "mode": "markers",
         "name": "1",
         "scene": "scene",
         "showlegend": true,
         "type": "scatter3d",
         "x": [
          -0.3485508364700991,
          -0.3318008536852171,
          2.3172948194887306,
          -0.4100223773159999,
          -0.2327588925783145,
          -0.3290588328879099,
          -0.2491517770099759,
          -0.24262211178602414,
          -0.34820853560701975,
          -0.34075074518273823,
          -0.347040190324851,
          -0.34854674585377066,
          -0.34853094419542596,
          0.7085658096125496,
          -0.3837579371258407,
          -0.2847506341993368,
          -0.291917582234783,
          -0.3465985484041215,
          -0.30984229871882296,
          -0.40991656790788705,
          -0.22865899534260925,
          -0.007315628734516796,
          -0.2921541268562216,
          -0.2683933005432248,
          -0.2836233571597254,
          -0.2842485530321171,
          -0.3648331512509431,
          -0.34281963114323677,
          -0.3469434813128788,
          0.011309917026524674,
          -0.32982437190224406,
          -0.4102902436576152,
          -0.21538240183291296,
          -0.29149019702794576,
          -0.4102013136596002,
          -0.3236407351559951,
          -0.34722042903503875,
          -0.3239140931853484,
          -0.4101656846465449,
          -0.21585384101612676,
          -0.28402836448000773,
          -0.3395966938544197,
          0.12785557052512936,
          -0.27417015307066156,
          -0.328266094088236,
          -0.3831767869890842,
          -0.26837370063601806,
          -0.28432412707691707,
          -0.2629947970851264,
          -0.3485328189279441,
          -0.2842761120936317,
          -0.33027106090079683,
          -0.3482656344696551,
          -0.4102716838984236,
          0.05960502536927851,
          -0.44302169393418295,
          -0.32422916173427835,
          -0.2667661098500789,
          -0.2837948710751697,
          -0.3215656005542166,
          -0.24507998743552478,
          -0.11282768962317355,
          -0.3290296072134091,
          -0.08580522282511718,
          -0.329093774699396,
          -0.2544957452218509,
          -0.3481405989001051,
          -0.26663276548101766,
          -0.40742171098169977,
          0.8917425475726986,
          -0.3288924486773821,
          -0.02626191102107356,
          -0.28443209659788793,
          -0.40810323485636785,
          -0.32762730358207864,
          -0.32527994774851365,
          -0.3764356478762133,
          -0.40899878304764775,
          -0.2720031675142009,
          -0.32429478768449593,
          -0.3481788455339768,
          -0.3466095455971252,
          -0.2031022905051753,
          -0.31769254310400213,
          -0.40974233715062736,
          -0.3473785876919326,
          -0.32907448256762867,
          -0.410260779978679,
          -0.3483692549934757,
          -0.34852702434282234,
          -0.2666255081357525,
          -0.2873268098384583,
          0.03786868093474225,
          -0.283383384093758,
          -0.34813932907469364,
          -0.3963349745584277,
          -0.2827092949493611,
          -0.20454263324840968,
          -0.43832399625149476,
          -0.2824532351634391,
          -0.2783487358071964,
          3.591477302385837,
          -0.4098509745454807,
          0.8533374360616579,
          -0.4102154609308335,
          -0.2838497090913933,
          -0.3480659760316684,
          -0.348220992628823,
          -0.28443209659788793,
          -0.40978750972144373,
          -0.3289365108537791,
          -0.34806679593242484,
          -0.39687171495548274,
          -0.3482149667678151,
          -0.34377277252116034,
          -0.410244577309444,
          -0.3474201951526244,
          0.3784382519791875,
          -0.3484154174537858,
          -0.3484864681491817,
          -0.30246369753512037,
          -0.3366843457459113,
          -0.3446879014788726,
          -0.3290507830440115,
          -0.41015403328715977,
          -0.3482629706309374,
          -0.3483905050557266,
          -0.2682789626379249,
          -0.31026507494011407,
          -0.20430919821324542,
          -0.3291379204022872,
          -0.26801914968805013,
          -0.40941493685139785,
          -0.4170647509888318,
          -0.4081471061136289,
          -0.28266892111950925,
          -0.40931233189956157,
          -0.27703773989506764,
          -0.40522802040904826,
          -0.34833352983963,
          -0.348332608579193,
          -0.34140719774084965,
          0.2871586350338267,
          -0.4097939793288329,
          -0.2508094875198462,
          -0.28446641012913615,
          -0.34753921189957726,
          0.8960477285485425,
          -0.24783317614725428,
          -0.27077468805534927,
          0.5798884962750296,
          -0.37797983091040094,
          -0.37647327105920253,
          -0.4312176544965881,
          -0.28395940398321545,
          0.11935453595944262,
          -0.28403067735287146,
          -0.33528948236997114,
          -0.43072016334397206,
          -0.41006811416460065,
          -0.2683540672369121,
          4.444181202925678,
          -0.28433158341201586,
          -0.347966581994269,
          -0.3484693030345313,
          -0.2911527066326146,
          0.7137746740828428,
          -0.4100084036943746,
          -0.3598026311362203,
          -0.3484245375976887,
          -0.2734015116969658,
          0.42474684592846185,
          -0.32738796728528163,
          -0.36265626298458575,
          -0.40713441106141646,
          -0.3483745614344427,
          -0.3807388084385858,
          -0.24388016037074461,
          -0.3482444289074007,
          -0.07467199167163786,
          -0.4087935613729756,
          3.5963620713716353,
          0.18463399949723053,
          -0.28068277197848035,
          -0.34568967344282026,
          -0.2978985371435866,
          -0.3023489810000722,
          0.06861495887392845,
          -0.3473768603519502,
          -0.4093788579238722,
          -0.3015082549653366,
          -0.33487203609870153,
          -0.34849154367017016,
          -0.33024284111014285,
          -0.27228656076142804,
          -0.27778796585727045,
          -0.3440121014747417,
          -0.1960541515891225,
          -0.386499869580283,
          -0.4100852167199532,
          -0.2593231735713199,
          -0.2675084687866342,
          -0.2515708396039476,
          -0.37757628464413295,
          -0.3485190442247904,
          -0.3485006383513947,
          -0.2618574607022701,
          -0.3220081153171041,
          -0.2839237105904763,
          -0.34821542496285113,
          3.784162690236954,
          -0.3794004439225508,
          -0.28411340144785313,
          -0.29241313382810075,
          -0.29475628457910696,
          -0.17341575753208557,
          -0.26804668433931894,
          -0.15053908507727412,
          -0.26829969004057264,
          -0.3440850574105295,
          -0.34768614627192207,
          -0.16457622066252167,
          2.2650427146842573,
          -0.29802715061464247,
          -0.24796296779337454,
          0.973661351281225,
          -0.3715893927479871,
          -0.3024630432454752,
          -0.3824338763697288,
          -0.1482135793933515,
          -0.35317247518388056,
          -0.3011752811414456,
          -0.3413470015299082,
          -0.3298177256629469,
          -0.4095556618086351,
          -0.26552880485509556,
          -0.2832069851382232,
          -0.37046795493047174,
          -0.3296777829991694,
          -0.20706442795109234,
          -0.3080519891854457,
          -0.17947294140628026,
          0.7311283284872774,
          -0.11918787281954829,
          -0.3817244090000663,
          -0.34821954919468595,
          -0.38218322576372565,
          -0.3025806924227947,
          0.5637326844678809,
          -0.3302974356933569,
          -0.3476990699696423,
          -0.25374577125175923,
          -0.2985161055410753,
          -0.40710322469263854,
          -0.40978428040711196,
          3.608669806049405,
          0.08930742397551207,
          -0.40731256742222494,
          -0.3470799169336969,
          -0.3479109986658969,
          -0.24918443916572255,
          -0.3484326103081337,
          -0.40136509247726404,
          -0.2615681691538031,
          -0.10765798315113814,
          -0.397085754098058,
          -0.3477072498551195,
          -0.34073268400332235,
          -0.40633383416652197,
          -0.3461368354537051,
          -0.2847092100415474,
          -0.40066875005237335,
          -0.3275655618601647,
          3.5918715058691015,
          -0.07451216482549172,
          -0.3433161138399333,
          -0.3644563905979822,
          -0.28443201908929344,
          3.6017844967599717,
          3.60303459753499,
          -0.2299753266141126,
          -0.28464477437901126,
          -0.2635784028763905,
          2.405385537411118,
          -0.34658317703755304,
          -0.26869868876941544
         ],
         "y": [
          1.0310475847652374,
          1.0310997947951113,
          1.6447990396668541,
          1.248734347112668,
          1.6749764753142504,
          0.843322487081966,
          0.5710749336763707,
          1.9046937991692525,
          1.0310443377682144,
          1.0312531434145746,
          1.031087395398606,
          1.031047326800138,
          1.0310473774296298,
          0.37163177185841767,
          0.9894266346474431,
          1.438040928126708,
          0.23855077089789348,
          1.0310112427930505,
          0.9770302009185212,
          1.2487371355461545,
          1.8697200689624036,
          0.7656799562691857,
          0.8425412714865591,
          0.7587878450315921,
          1.806093333253493,
          1.8060768572412058,
          0.5793344241049527,
          1.0308913515765026,
          1.0310182477333465,
          1.0405311250081062,
          0.9765036061378575,
          1.2487433822844036,
          0.045564208634912305,
          1.4667738807264485,
          1.2487384106741095,
          1.0305334982876613,
          1.03100948604091,
          0.29720940169645227,
          1.248742641794128,
          0.045624944090070244,
          1.806082659949525,
          1.0305519619257442,
          0.6833834409160648,
          1.34670058316313,
          0.8433097250609313,
          0.9894451542910098,
          0.758800198755961,
          1.806066086475713,
          0.7585761536311784,
          1.031048059618747,
          1.8060688150211226,
          0.9764772024891977,
          1.031040468934737,
          1.2487438721280253,
          1.8232848153125933,
          1.8814896670355183,
          0.5735235956171296,
          0.758769404713716,
          1.8060522335544436,
          0.8428044593978776,
          1.9048658445274622,
          1.0361294996488157,
          0.8433232572767053,
          1.2378708166356553,
          0.8433299795859333,
          1.5247891327944934,
          1.0310276689605593,
          0.7586843573316936,
          1.2485380461581224,
          0.7169452932663457,
          0.8433137031619143,
          0.37995928924309413,
          1.4380346907705985,
          1.2487461484511546,
          0.8432133633599763,
          0.8430540813111169,
          1.5215097630493375,
          1.2486757256910535,
          1.4521188113200283,
          1.0302236239576419,
          1.0310249539793557,
          1.0310255848724503,
          1.5337086920225023,
          0.9763426629321125,
          1.2487212424627825,
          1.0310126339749854,
          0.8433228062549323,
          1.2487419646990954,
          1.0310370065910845,
          1.0310482123255384,
          0.7588462695033649,
          0.19104463206548844,
          2.020113957844511,
          1.4380228217599516,
          1.0310584293987528,
          1.2480137593257046,
          1.4380654605659586,
          1.5338152239974308,
          2.0394142283987873,
          1.4378812623314838,
          2.020921109402921,
          2.1067278503661364,
          1.2487330113947317,
          1.8354342156284937,
          1.2487425347190269,
          1.4380280907999914,
          1.0310321668413063,
          1.0310255503156347,
          1.4380346907705985,
          1.2487127360675367,
          0.8433271738678833,
          1.0310361982683591,
          0.6901226637170279,
          1.0310359514419978,
          1.0306974836052458,
          1.2487409285046411,
          1.0309720313691073,
          0.752058129139114,
          1.0310416428120777,
          1.0310468553041425,
          1.4193866706899618,
          0.7042673065791827,
          1.0307835888050263,
          0.8433234308170247,
          1.2487401292809395,
          1.031040539135839,
          1.0310357637591294,
          0.7587624577165083,
          0.2064601440325588,
          1.5338125785691659,
          1.0308275857542366,
          0.7587843561791126,
          1.2486932908299537,
          1.9996600300159646,
          1.2487193864844024,
          1.43801510066967,
          1.248695994815252,
          1.437951550963914,
          1.2485109923010047,
          1.0310377928823649,
          1.0310324122281465,
          1.0305042490639094,
          0.5303480638302811,
          1.248727197464034,
          0.7577998855589941,
          1.4380264705475383,
          1.0309974270680213,
          1.8691141184526825,
          0.5709724476489737,
          1.4521025348400218,
          1.9584994209387314,
          1.521527596206538,
          1.521486823713439,
          2.063085711591919,
          1.8060625294517763,
          1.0067987328312022,
          1.806068773185167,
          1.3317744582444337,
          2.0630988221556716,
          1.2487422814063214,
          0.758787982105658,
          1.5771227977343325,
          1.438006905320261,
          1.0310276809612717,
          1.0310466607785886,
          1.67600490041994,
          1.401257764855473,
          1.2487310573914572,
          0.5791771154795228,
          1.0310394027739198,
          0.6860906580011261,
          1.0331367119999988,
          0.8433094556254157,
          1.521060826120765,
          1.7397253620123538,
          1.0310368667485323,
          1.69154883647424,
          1.5723225175800166,
          1.0310448406418098,
          0.5690978557371282,
          1.248677475998756,
          2.1065822324624217,
          1.5144138387287818,
          1.8060171926850965,
          1.0309693511868996,
          1.2492647233871719,
          1.4193860358830812,
          1.0054615744582416,
          1.0309687838190191,
          1.2487308213619255,
          1.419335032377496,
          1.0307496319973832,
          1.0310462209820217,
          0.9764772145808978,
          1.4521175615098523,
          0.30318501666944886,
          1.0309974657643177,
          1.5334554773973006,
          0.965335379323581,
          1.248730496299333,
          1.2067171598454312,
          0.7587322827900748,
          1.4162807017631123,
          1.5215089672220359,
          1.0310462278446075,
          1.031045249711988,
          0.7586061262670292,
          1.3850922277696196,
          1.4379983400162517,
          1.0310344761777797,
          2.146614617838973,
          1.6915841068769801,
          1.437999193781637,
          0.6126260522181923,
          1.0287180600669226,
          0.5315218550242699,
          0.7587897952742474,
          1.0288035947680516,
          0.7587699590206078,
          2.02460692616672,
          1.0310089183405318,
          1.6325804622699256,
          0.335942658942158,
          1.4190390260274035,
          0.5710420564373837,
          1.7550656449284043,
          0.8848723458642447,
          1.4193822983649749,
          1.691646716217812,
          0.7496175045839814,
          0.9583278976008064,
          1.4193584392491496,
          1.0305058354363643,
          0.9764635435845168,
          1.2487261619853902,
          0.7586849567193065,
          1.4379279735969661,
          0.9715487462009259,
          0.9764343097861173,
          1.0216075239893665,
          2.215407392651605,
          0.9344684747413481,
          0.3011176475429222,
          0.9820545857592433,
          1.6916296754016804,
          1.0310409518419874,
          1.69164316351306,
          1.4193847799807253,
          1.0003660438655348,
          0.9764767269031636,
          1.0310085777576645,
          1.2065422415074634,
          2.0222230075523275,
          1.2485201019358445,
          1.248734769009412,
          2.106540785323043,
          1.016980809748323,
          1.2488218547916576,
          1.0309400295450228,
          1.031024753187613,
          0.5710678543645343,
          1.0310507004526432,
          1.2486127934338642,
          1.0256581268894756,
          0.849034235621942,
          1.2483597710715792,
          1.03105884221895,
          1.030960981539482,
          1.248695476021211,
          1.0309941466961514,
          1.4380354354408995,
          0.7456358324769902,
          0.8433011174384406,
          2.1067126928391238,
          0.7565866914210408,
          1.0309660589433116,
          0.579303092434869,
          1.8060719345026839,
          2.107090928903981,
          2.1071238732605244,
          0.5708578479022636,
          1.4380374011983594,
          1.5371049155986725,
          0.922329046913157,
          1.0309165405796596,
          0.7587909026318631
         ],
         "z": [
          -0.6465224576054903,
          -0.6468936995153737,
          -0.6552782084176411,
          -0.564890526876787,
          -0.029535446137630778,
          -0.3515207076536841,
          -0.00045531970586433864,
          -0.5313110101024964,
          -0.6465289540786365,
          -0.6467411395179193,
          -0.6465648098068564,
          -0.6465224798557593,
          -0.6465228304268543,
          -0.6673338877546249,
          -0.45433844800822454,
          -0.10307577671406447,
          -0.507731119650623,
          -0.6465550056970496,
          -0.2143958206444273,
          -0.5648934933296277,
          -0.7851079136184089,
          -0.3027818606111073,
          -0.3521121607738434,
          -0.29545934429470233,
          -0.6404419027213668,
          -0.6404243748464835,
          -0.317534178728889,
          -0.6466054859657991,
          -0.6465494026374085,
          -0.6566114465865527,
          -0.21383560696718595,
          -0.5648870842561752,
          0.1065307414373972,
          -0.3288942876306373,
          -0.5648877288408694,
          -0.6469250205636811,
          -0.6465412684177133,
          -0.5282168604646454,
          -0.5648895597004973,
          0.10652547036813943,
          -0.6404305480116665,
          -0.6465886117829617,
          -0.9528389501869301,
          0.06026115401066893,
          -0.3515344281357035,
          -0.45435555081043993,
          -0.2954628851929403,
          -0.6404200374766242,
          -0.2955212458783742,
          -0.6465229627497057,
          -0.6404217533807466,
          -0.21381938602767173,
          -0.6465267558332949,
          -0.5648876047790051,
          -0.7622635142950154,
          -0.7273355869054263,
          -0.38355816429568707,
          -0.2954894670581318,
          -0.6404278500640809,
          -0.3515499714302373,
          -0.5313019483950789,
          -0.4337827831810785,
          -0.3515215270192441,
          -0.5690756555220498,
          -0.3515218541803556,
          -0.6178177560854062,
          -0.6465261938921432,
          -0.2954708249624233,
          -0.5648965112071309,
          -0.30968432019869574,
          -0.3515220444853309,
          -0.6537306627793023,
          -0.1030810095247982,
          -0.5649345328242382,
          -0.3515237312019616,
          -0.35153365587381824,
          -0.6143824322903522,
          -0.5648975929219837,
          0.023700745116966262,
          -0.6468327306678586,
          -0.646524690224204,
          -0.646558395031853,
          -0.28935499618083943,
          -0.2140542648525414,
          -0.5648932013205678,
          -0.6465386831361319,
          -0.3515204537846847,
          -0.564887355831757,
          -0.6465236658651105,
          -0.6465231252056137,
          -0.29551189719185095,
          -0.6464378296472251,
          -0.7143326393336848,
          -0.10310042737783581,
          -0.6465339945578483,
          -0.5650010080087909,
          -0.10312561203932752,
          -0.2893511292716777,
          -0.7476355399259822,
          -0.10308453653164952,
          -0.7077771488001111,
          -0.11259779476870693,
          -0.5648938532328813,
          -0.6721603733568345,
          -0.5648884686229407,
          -0.10309179075723528,
          -0.6465289256984257,
          -0.6465239399885578,
          -0.1030810095247982,
          -0.5648900860457688,
          -0.3515245068164262,
          -0.6465299269609065,
          -0.39959501957845645,
          -0.6465266972835121,
          -0.6465361189046678,
          -0.5648874403217646,
          -0.6465275329819737,
          -0.30758534525652925,
          -0.6465238507230044,
          -0.6465236492001263,
          -0.1102811168684217,
          -0.2959575039868938,
          -0.6465383168868678,
          -0.3515211182201092,
          -0.5648891738186702,
          -0.6465268305161801,
          -0.6465228975453876,
          -0.2954553727121341,
          -0.4052444716705139,
          -0.28935545065107743,
          -0.6468818320049708,
          -0.29546646047395003,
          -0.5648931361291601,
          -0.7506627433139852,
          -0.5649268319702543,
          -0.10311374853696745,
          -0.5648960127424546,
          -0.10321806097926328,
          -0.5649365667365945,
          -0.6465246282313999,
          -0.646523288170126,
          -0.646537852833649,
          -0.0016273417225967505,
          -0.5648936023151183,
          -0.2955855471907012,
          -0.10307819869200804,
          -0.6465314066682606,
          -0.5466598290176594,
          -0.0004576067173639004,
          0.02367859838239602,
          -0.6699232812520164,
          -0.6143539304630079,
          -0.6143758310187268,
          -0.7199050785552735,
          -0.6404269349002104,
          -0.650396440234561,
          -0.6404269892241686,
          -0.21542292902587082,
          -0.7199190261244491,
          -0.564891554294041,
          -0.29546021758652835,
          4.831667850295818,
          -0.10307613638808744,
          -0.6465299167122548,
          -0.6465239669629366,
          -0.02854711432564392,
          -0.05381947077431329,
          -0.5648899942261307,
          -0.317601957458591,
          -0.6465230896869052,
          0.006306374574289965,
          -0.6635804246525185,
          -0.3515531308948972,
          -0.6145635289773257,
          -0.6793736484671534,
          -0.6465235170947212,
          -0.46135981084196154,
          0.07382106166607268,
          -0.646528313905062,
          -0.0036853709345514908,
          -0.5649024220660684,
          -0.11266541230247379,
          -0.624582640630199,
          -0.6404855190935248,
          -0.6465638473207156,
          -0.2632883956315799,
          -0.11028340862729108,
          -0.6489739149139989,
          -0.6465276386133472,
          -0.5649033917563824,
          -0.1102884908153329,
          -0.6467395596569602,
          -0.6465233804051241,
          -0.21381999230995705,
          0.023707118775920605,
          -0.3629083821022954,
          -0.646606812000495,
          -0.28944166698739193,
          -0.4788895822816051,
          -0.5648882104754764,
          -0.5761792615555574,
          -0.2954642172413651,
          -0.004780484896047343,
          -0.614357848910759,
          -0.646522794287206,
          -0.6465229405458345,
          -0.29555313202909816,
          -0.07572541982149393,
          -0.10308269052990256,
          -0.646526314672636,
          -0.056185966330383884,
          -0.46139733297993657,
          -0.1030788514524232,
          -0.02850074146473573,
          -0.6470836724770831,
          -0.39485324367972596,
          -0.29546724641577593,
          -0.6501880766190682,
          -0.2954568253100696,
          -0.7073034173625979,
          -0.6465311697761578,
          -0.18023975595366246,
          -0.553933557868576,
          -0.11028809868123442,
          -0.0004724232432461905,
          -0.0960734927649046,
          -0.3795814325808358,
          -0.11028002591694788,
          -0.4613483124043465,
          -0.2957108552961579,
          -0.3447593160668712,
          -0.11030152365741779,
          -0.6465395404833929,
          -0.21382562476225853,
          -0.5648984349156422,
          -0.29549457470977764,
          -0.10308022884567856,
          -0.5035890981182898,
          -0.21382122845605708,
          -0.6471612591262262,
          0.07623681955796092,
          -0.22511237294997127,
          -0.33885957169634506,
          -0.21974097257310632,
          -0.4613591715738331,
          -0.6465278629889666,
          -0.4613527725046257,
          -0.11027813818004954,
          -0.6582698570636301,
          -0.2138187020536569,
          -0.6465308074497788,
          -0.576254280265617,
          -0.7076750557352925,
          -0.5648987844592355,
          -0.5648957230573067,
          -0.11291802840519842,
          -0.6523272825482033,
          -0.5649705660166756,
          -0.6465267195385044,
          -0.6465303649795354,
          -0.00045283249448360626,
          -0.6465257721798826,
          -0.5650448670636787,
          -0.6470198211732813,
          -0.3576968003265932,
          -0.565072400545021,
          -0.6465433350127266,
          -0.6466676928766669,
          -0.5649595500391276,
          -0.6465605548951097,
          -0.1030752741315023,
          -0.3346339455936514,
          -0.35154722747400197,
          -0.11260239078286301,
          -0.2990474924749206,
          -0.6466137525698382,
          -0.31753431449009256,
          -0.6404192090404193,
          -0.1129098756608018,
          -0.11294492325299389,
          -0.0008103756213866729,
          -0.10307714827883266,
          -0.2879988407828272,
          -0.01766144833234153,
          -0.6465314019204553,
          -0.29545358900373775
         ]
        },
        {
         "hovertemplate": "class=%{marker.color}<br>PC 1=%{x}<br>PC 2=%{y}<br>PC 3=%{z}<extra></extra>",
         "legendgroup": "0",
         "marker": {
          "color": [
           0,
           0,
           0,
           0,
           0,
           0,
           0,
           0,
           0,
           0,
           0,
           0,
           0,
           0,
           0,
           0,
           0,
           0,
           0,
           0,
           0,
           0,
           0,
           0,
           0,
           0,
           0,
           0,
           0,
           0,
           0,
           0,
           0,
           0,
           0,
           0,
           0,
           0,
           0,
           0,
           0,
           0,
           0,
           0,
           0,
           0,
           0,
           0,
           0,
           0,
           0,
           0,
           0,
           0,
           0,
           0,
           0,
           0,
           0,
           0,
           0,
           0,
           0,
           0,
           0,
           0,
           0,
           0,
           0,
           0,
           0,
           0,
           0,
           0,
           0,
           0,
           0,
           0,
           0,
           0,
           0,
           0,
           0,
           0,
           0,
           0,
           0,
           0,
           0,
           0,
           0,
           0,
           0,
           0,
           0,
           0,
           0,
           0,
           0,
           0,
           0,
           0,
           0,
           0,
           0,
           0,
           0,
           0,
           0,
           0,
           0,
           0,
           0,
           0,
           0,
           0,
           0,
           0,
           0,
           0,
           0,
           0,
           0,
           0,
           0,
           0,
           0,
           0,
           0,
           0,
           0,
           0,
           0,
           0,
           0,
           0,
           0,
           0,
           0,
           0,
           0,
           0,
           0,
           0,
           0,
           0,
           0,
           0,
           0,
           0,
           0,
           0,
           0,
           0,
           0,
           0,
           0,
           0,
           0,
           0,
           0,
           0,
           0,
           0,
           0,
           0,
           0,
           0,
           0,
           0,
           0,
           0,
           0,
           0,
           0,
           0,
           0,
           0,
           0,
           0,
           0,
           0,
           0,
           0,
           0,
           0,
           0,
           0,
           0,
           0,
           0,
           0,
           0,
           0,
           0,
           0,
           0,
           0,
           0,
           0,
           0,
           0,
           0,
           0,
           0,
           0,
           0,
           0,
           0,
           0,
           0,
           0,
           0,
           0,
           0,
           0,
           0,
           0,
           0,
           0,
           0,
           0,
           0,
           0,
           0,
           0,
           0,
           0,
           0,
           0,
           0,
           0,
           0,
           0,
           0,
           0,
           0,
           0,
           0,
           0
          ],
          "coloraxis": "coloraxis",
          "symbol": "diamond"
         },
         "mode": "markers",
         "name": "0",
         "scene": "scene",
         "showlegend": true,
         "type": "scatter3d",
         "x": [
          -0.1562228025145142,
          -0.15445978715501582,
          -0.1745385285779365,
          -0.16275319319404347,
          -0.15289124289279804,
          -0.13210965023363483,
          0.16561772005051784,
          -0.1756912156700067,
          -0.23737172191657388,
          -0.17530528028532294,
          -0.08928686729408672,
          2.5648887949064005,
          -0.15329150771863914,
          -0.17254473245647375,
          -0.17510784143934108,
          -0.20495524527669579,
          -0.20998305806314044,
          -0.17515760013216106,
          -0.17567339610492372,
          -0.17576038276039738,
          -0.23746152445306692,
          0.1894170507751746,
          0.22375167784017308,
          0.07436597887987871,
          -0.17550533926321224,
          -0.1710853990167743,
          -0.1754441804051404,
          -0.17581768846060433,
          -0.18730096801569482,
          -0.15491929670576512,
          -0.17460612657836946,
          -0.17488488059702106,
          1.5828462245467718,
          -0.15618398551622878,
          -0.17215838740130432,
          -0.17553192298240577,
          -0.1758887196967003,
          -0.17514380489603926,
          -0.1677153735985074,
          -0.175769287565567,
          -0.03980493812210814,
          -0.1562619706019581,
          -0.1693978788508492,
          -0.17574847007874375,
          -0.17383028474259196,
          -0.17523229776797303,
          -0.14333946208042192,
          -0.15572277326907905,
          -0.15601143698451836,
          -0.15599378818306894,
          -0.1565885029157338,
          -0.23763651933445035,
          -0.17546356225564813,
          -0.1798442029181003,
          -0.172549245317186,
          -0.15579042201544568,
          3.890012041031272,
          0.47003487183762555,
          -0.17432449947686074,
          -0.1588262133085942,
          -0.17303624494319167,
          -0.1758909211189018,
          -0.17290072570351103,
          -0.15904568608764846,
          -0.1557908651620244,
          -0.12348659978321969,
          -0.16490102811514384,
          -0.17576337542979495,
          -0.04794304836650881,
          -0.106033964357309,
          -0.17589988573302476,
          -0.15628988219518158,
          0.4807393402534936,
          -0.23702026880079993,
          -0.16631156990731513,
          -0.1560280134672906,
          -0.23730671683767496,
          -0.17401157064812425,
          -0.1731993367776805,
          -0.1555321523492887,
          0.37358805616599633,
          -0.2373423569944467,
          -0.15618511328480456,
          -0.17183519906248754,
          -0.17151516030330963,
          -0.17445509434093612,
          0.2646320381808499,
          -0.23649804146151238,
          -0.15919976627241117,
          -0.1747024910528436,
          -0.1605965701463446,
          -0.1756885021800335,
          -0.23730529249011653,
          -0.17589994455416288,
          -0.23745598751678879,
          -0.16757697089257986,
          0.31404602262407544,
          -0.15644661712145452,
          -0.10344547533972344,
          -0.1730500875706817,
          -0.15640503400124744,
          -0.17556129375785723,
          -0.16978519321350616,
          -0.15527292973192316,
          -0.1321313716572803,
          -0.10212725417054035,
          -0.22396764664928098,
          -0.23527071059813753,
          0.31404051867177135,
          -0.1758815638464264,
          0.31417192368209207,
          -0.16685543205472825,
          0.4826905219716683,
          -0.16150925358791485,
          -0.17584968851685157,
          -0.2301408426138221,
          -0.13214386414633492,
          -0.17397254214755004,
          -0.16657229313300895,
          -0.14383259605637436,
          -0.14657509861856222,
          -0.20499482047640988,
          -0.17540948715515706,
          -0.12257310148571,
          -0.17523016473662784,
          -0.16136746091275625,
          -0.15730422082083698,
          -0.028642826888724233,
          -0.14799419656913512,
          0.35036558786405825,
          -0.23650624387966365,
          -0.17555173091780044,
          -0.17531316238717992,
          -0.2369034086240987,
          -0.2374842437668003,
          0.31443789110617026,
          -0.1405570558911166,
          3.2531574529981038,
          -0.13730188535797314,
          -0.22829664825074628,
          -0.15622196269632846,
          -0.10096218611549958,
          1.5795543138297463,
          -0.17565004042803375,
          -0.17509810943558834,
          -0.17479740925054627,
          -0.17478427707368085,
          0.3146228924775858,
          0.0815113500033525,
          -0.1916251611142328,
          -0.19201681682625718,
          -0.13198911419127227,
          -0.15795104245580938,
          -0.17397074265545204,
          -0.23300236653093426,
          -0.19186122182349918,
          -0.1536265654686241,
          -0.1919621018109241,
          -0.11366169873284022,
          1.157258640843243,
          0.31402308213801333,
          -0.07801247451813408,
          -0.2327397987795497,
          -0.1504140134549644,
          -0.09156218677364175,
          1.0712724852363966,
          -0.23745810380198304,
          -0.192014450513522,
          -0.18501177313533373,
          -0.1748967881821696,
          -0.23738310477396313,
          -0.1562012726849559,
          -0.21382665871613074,
          -0.24854573487270984,
          8.103693993794955,
          -0.1584051428244526,
          0.3179209012446712,
          0.018217257223586115,
          -0.15745267396420673,
          -0.16531781773181456,
          -0.17547363049122774,
          0.13335115727151053,
          -0.23148882243640442,
          -0.10634834811031212,
          0.32199876155113716,
          -0.17571206052591296,
          -0.15200793582893032,
          -0.13097462462740964,
          -0.16755397298988284,
          -0.236547213246943,
          0.31420656768448146,
          -0.20505496318807193,
          -0.16669968773698982,
          -0.144438090141673,
          -0.16987013482100602,
          0.31816216361429783,
          0.5686071309144477,
          2.134086334355418,
          -0.18991612771663044,
          0.32789141336165967,
          -0.19973557623805857,
          -0.14532774706035445,
          -0.23744016050306302,
          -0.1757367451255627,
          -0.15028246273753024,
          -0.15016929408510535,
          -0.08543775424798698,
          3.1060121016102626,
          -0.1158256281121991,
          -0.23741132999418543,
          -0.19915940839551416,
          -0.02611740241222217,
          -0.1692639159491885,
          -0.15622200044322931,
          0.3944685123242293,
          -0.15085872535522094,
          -0.1512537979300037,
          -0.22423079757841552,
          -0.15471291209877994,
          -0.1746222768394076,
          -0.13003635324924367,
          -0.1318209826149526,
          -0.1641067450044613,
          -0.1554940249002908,
          -0.11176632343735415,
          -0.15435499233735814,
          0.524959102983131,
          -0.1167610650657949,
          -0.10137916646408862,
          -0.15919699960498476,
          -0.15601080439450618,
          0.544118927903274,
          -0.20954163409726756,
          -0.17581420187780514,
          -0.17375748066083285,
          -0.1242249945781432,
          -0.12509704181063197,
          -0.15530627325972074,
          0.3359053546396979,
          -0.1321107122872007
         ],
         "y": [
          -1.3150137188069015,
          -2.0479939779138254,
          -1.1273198077699251,
          -2.1705551815818094,
          -2.048106276371355,
          -1.9856635793379669,
          -1.8482169100120012,
          -1.12730409448752,
          -0.909606012435125,
          -1.127325382361794,
          -1.8410342047539068,
          -1.3359975716088912,
          -1.315045327389657,
          -1.1273887092485928,
          -1.1273465165909926,
          -0.46674480856184103,
          -1.1689438105815815,
          -1.1273099064242529,
          -1.127303624882095,
          -1.1273001669390854,
          -0.909606915844515,
          -1.8443377795823277,
          -1.3203482378233338,
          -1.1305754109408457,
          -1.1272991960195395,
          -1.1273866788025553,
          -1.1273056318189134,
          -1.127300284043905,
          -1.579121811649104,
          -1.127780631479392,
          -1.1273113468797398,
          -1.1273203359269566,
          -1.1472278322055116,
          -1.3150126958485502,
          -1.1273898095323387,
          -1.1272991649952586,
          -1.1272949235480834,
          -1.127305031860996,
          -2.1479789975497754,
          -1.1272981044035217,
          -1.1346815902191345,
          -1.3150147510176373,
          -1.127369427812596,
          -1.1273056033336004,
          -1.1274225878715927,
          -1.1273140946160634,
          -1.3153084920256246,
          -1.3150195715717117,
          -1.3150235121018812,
          -1.315050847592199,
          -1.315008175653101,
          -0.9095983588445777,
          -1.1272995582442324,
          -1.2000191128850972,
          -1.1274001099519495,
          -1.3150198823985562,
          -2.33403332524408,
          -2.296521775968644,
          -1.1273296186622142,
          -1.1280733604723543,
          -1.1273404907018785,
          -1.127295916540881,
          -1.1273322473512424,
          -1.1275816599762745,
          -2.222061795232574,
          -1.8404722933981807,
          -1.4540396980146884,
          -1.1272930991046894,
          -1.131238083674884,
          -2.182612479526073,
          -1.1272946833647008,
          -1.3150154865819188,
          -1.1772962848435453,
          -0.9096062611944775,
          -2.256354089543128,
          -1.315032552500637,
          -0.9096050309274579,
          -1.1273982771623596,
          -1.127405960272337,
          -2.0480346069695967,
          -2.1913892156327113,
          -0.9096023121922638,
          -1.3150127255690414,
          -1.127340746874398,
          -2.218574335017196,
          -1.127317608997396,
          -1.3197290860231479,
          -0.9096298100746794,
          -2.133373382090075,
          -1.1273858396894045,
          -2.136564710821104,
          -1.12730329138332,
          -0.9096079197695917,
          -1.1272946826981038,
          -0.9096118910899742,
          -1.1892051886952961,
          -2.29332397611517,
          -1.3150113763921583,
          -1.8408220559619664,
          -1.1273654473231782,
          -1.3150109406535573,
          -1.1273072549600929,
          -2.237823652634146,
          -2.0480345787847334,
          -1.9856641517704796,
          -1.132666019590687,
          -0.9096039354231843,
          -0.9097028154070611,
          -2.293332168703626,
          -1.1272957330716784,
          -2.2933316321184805,
          -2.2563276071323015,
          -0.9637747825229156,
          -2.170657744597413,
          -1.1272953654505111,
          -0.9101324171924884,
          -1.9856615546110703,
          -1.1273165976393373,
          -2.256328193011737,
          -2.164131986454643,
          -1.1294478019464822,
          -0.6368334001090799,
          -1.1273072930408845,
          -1.3159405591628808,
          -1.127329255571608,
          -2.1705954803143355,
          -2.1492231542628972,
          -2.202238299897749,
          -2.2536426186719103,
          -2.2938227068077497,
          -0.9096417317498774,
          -1.127299157911694,
          -1.1273336376224832,
          -0.9096229345908291,
          -0.9096081730099409,
          -2.2933458392270096,
          -2.1544317263068766,
          -1.1832459694356117,
          -1.1885885014704904,
          -0.9101569759353403,
          -1.315013696674872,
          -1.1330011134419122,
          -1.0810321125739133,
          -1.1273022777868995,
          -1.1273345546060733,
          -1.127338335659571,
          -1.1273379895825784,
          -2.293366488341899,
          -1.9953820716073785,
          -0.9097026752438963,
          -1.5790200273759907,
          -1.985660402808176,
          -2.1334328793470916,
          -1.1273165502166727,
          -0.9097322914614328,
          -1.5790290956279256,
          -2.0481768662157496,
          -1.579022097105634,
          -1.840696226686663,
          -2.3332807166281393,
          -2.293326409660621,
          -2.0532952805116698,
          -0.9098716908427255,
          -2.1709612180278772,
          -1.1287296214604667,
          -1.161385381429651,
          -0.9096081425691789,
          -1.5790155754479793,
          -1.579181465188504,
          -1.1273146172220867,
          -0.90960850719553,
          -1.3150125412736284,
          -1.1930085262028935,
          -0.16194321786161578,
          -2.8196278777003236,
          -2.1629915074740893,
          -2.29346035988751,
          -1.1294945372825227,
          -2.1333785519598063,
          -1.2003795939512687,
          -1.1273122606846098,
          -1.1326108733128453,
          -0.9098021436810362,
          -2.0514814448382697,
          -2.293838673391731,
          -1.1273046438195242,
          -2.1163598784861053,
          -1.9856695157352116,
          -2.2379686747439944,
          -0.9096428114303878,
          -2.2933258906081013,
          -0.636815047655074,
          -2.2563354131072697,
          -2.100031969293579,
          -2.2378179167496053,
          -2.2936471431718366,
          -2.2528688849855762,
          -2.3799658914983444,
          -2.1842313686460835,
          -2.293683382213522,
          -1.273446236096652,
          -2.0983630775316704,
          -0.909608547616495,
          -1.1273061029461455,
          -2.171506826509235,
          -2.2408280415888155,
          -0.951701861905573,
          -2.3208472570349947,
          -1.3154701027158857,
          -0.9096107142141765,
          -1.273488061136337,
          -1.98841508303,
          -2.237855713049604,
          -1.3150136976696303,
          -2.2971085418223542,
          -2.197701192027814,
          -2.197653155544719,
          -0.0996213103967875,
          -2.1924873786827184,
          -1.1273483522243763,
          -1.9857858405738893,
          -1.9856632045205225,
          -1.4540919254473996,
          -1.3150259716362658,
          -0.3522709404304944,
          -1.3150720401408151,
          -1.1805936726694934,
          -1.5799434108345833,
          -2.2014414964789255,
          -1.1275856475959645,
          -1.3150234954310083,
          -1.1448990456878307,
          -1.1689475410636325,
          -1.1272956300734909,
          -1.1273709208052336,
          -1.840493801047431,
          -2.159911272203999,
          -2.0480342009154855,
          -2.2937649886371285,
          -1.985663607326649
         ],
         "z": [
          0.25364704648405945,
          0.4177881957009603,
          -0.041371966359913775,
          0.4509639744205693,
          0.41778304561213075,
          0.4671735561463263,
          0.3564192714693098,
          -0.041351297437254055,
          0.04028223951664373,
          -0.04135416750210517,
          0.3600529613892951,
          -0.04719468897995657,
          0.25359237495054016,
          -0.04139717356069401,
          -0.04135304709067013,
          0.143734181176352,
          0.15081788997012754,
          -0.04136123526488683,
          -0.0413517970232574,
          -0.041350811458078805,
          0.04028438743880358,
          0.3549302351467002,
          0.24687280284137078,
          -0.0458698230546767,
          -0.04135650863353025,
          -0.04142888140659873,
          -0.04135618956433874,
          -0.04134955689701334,
          0.2875635233394205,
          -0.04167489175516057,
          -0.04137265955002891,
          -0.04136442926371149,
          -0.07390685293628708,
          0.2536459582179333,
          -0.04140515402251103,
          -0.04135594821983933,
          -0.04134939319237441,
          -0.04136276201106614,
          0.3362643276945622,
          -0.04135114233568068,
          -0.04239162476359311,
          0.25364814459325313,
          -0.041469313383771765,
          -0.04134969226332829,
          -0.041361132056547796,
          -0.041358580122386294,
          0.25344614468421484,
          0.25363783691513136,
          0.2536450032120358,
          0.25365153394863527,
          0.25365346288037344,
          0.04028596567761271,
          -0.04135731012091738,
          0.2604006463503163,
          -0.04139419600287385,
          0.2536393615250892,
          0.46155188093008803,
          0.5251777459458148,
          -0.04137406212142781,
          -0.04151740142613923,
          -0.04139885237386732,
          -0.04134909519387362,
          -0.04140383242566039,
          -0.04163696843012319,
          0.39254199137789103,
          0.36064201370577786,
          0.3092253734423966,
          -0.04135253361102207,
          -0.04308787873636302,
          0.6331978219562963,
          -0.041349215204198174,
          0.2536489271174755,
          -0.04274955436025161,
          0.040274789715169665,
          0.4294203396154247,
          0.25364764216544805,
          0.04028060192887743,
          -0.04136340048701925,
          -0.04137882119602421,
          0.4178213860285457,
          0.4266616842720098,
          0.040280676717152276,
          0.2536459898358429,
          -0.04142446120671549,
          0.2715740282752767,
          -0.04137430550663221,
          0.24584247689662383,
          0.040269577654518995,
          0.47228466221242066,
          -0.04135177445909876,
          0.4496364014434255,
          -0.04135155839465561,
          0.04028130152614608,
          -0.04134921411529349,
          0.040285526383810145,
          0.6257676154975952,
          0.5277040440287165,
          0.25365123879212725,
          0.3603020034817522,
          -0.04139224964409644,
          0.25365023979463636,
          -0.04135327596122843,
          0.4736557408426066,
          0.4178158377602351,
          0.4671741651241094,
          -0.04156878044744972,
          0.03999518896355639,
          0.04026179151572256,
          0.5277062320440272,
          -0.041349341579848146,
          0.5277032875276754,
          0.42942527280454235,
          0.03857926136147494,
          0.4509633028247712,
          -0.041350115849423004,
          0.0402607007857442,
          0.4671737758311915,
          -0.04138487612988869,
          0.42941936848225204,
          0.5873778000153311,
          -0.041431943986395645,
          -0.009183096094461558,
          -0.04135651135746255,
          0.253161973465849,
          -0.0413547943675976,
          0.45094453695155173,
          0.49415748897672124,
          0.4380014665515023,
          0.5006201756343607,
          0.527053711651538,
          0.040272765736028976,
          -0.04135552659528265,
          -0.04135191281343704,
          0.04027650527262413,
          0.04028519078749894,
          0.5277011925071556,
          0.27302621559954726,
          -0.10050924123115561,
          0.10074418469199699,
          0.040227485546789093,
          0.25364702293907215,
          -0.04150900282677538,
          -0.09056491629278432,
          -0.04135263670116185,
          -0.04135627805535667,
          -0.04136175030962166,
          -0.041362118480883156,
          0.5277024561881405,
          0.4650631676483576,
          0.03932878832437064,
          0.2876386073038404,
          0.4671701768203225,
          0.47227300512923814,
          -0.041384926580113536,
          0.04022075230982475,
          0.28763757295641035,
          0.4178166027539261,
          0.2876379607598878,
          0.36048858706404246,
          0.519777056228963,
          0.5277051493901622,
          0.4174937581285587,
          0.0402503675098691,
          0.45080282212273715,
          -0.04278939322073261,
          0.1596690855958741,
          0.04028462432657273,
          0.287637431667321,
          0.2875296646291302,
          -0.04136561991052801,
          0.040283113291819043,
          0.2536462886857646,
          0.12628359807617623,
          0.16372013684379008,
          0.4941955801788179,
          0.4354016370020366,
          0.5276556803502545,
          -0.04494273672541237,
          0.4722486228334834,
          0.26018122794713117,
          -0.0413538848471953,
          -0.04661630580181846,
          0.040206051245272934,
          0.4176410886364164,
          0.5276641162010401,
          -0.041350713034761226,
          0.6158534357857294,
          0.4671507940227417,
          0.47364469503379875,
          0.04027391434556953,
          0.527701096030367,
          -0.009186448362579166,
          0.4294239162732257,
          0.4534059586948332,
          0.47365610703039307,
          0.5276977254399554,
          0.4015876872191153,
          0.5106942649605345,
          0.3989158617242451,
          0.5274989109138222,
          0.2256028635994276,
          0.3861486260940941,
          0.040284343130593876,
          -0.0413498166381393,
          0.45093789172705767,
          0.40666990705764056,
          0.028986989367207915,
          0.3645270175820491,
          0.25289884955959974,
          0.0402842743738347,
          0.22560111710485672,
          0.46560320174181696,
          0.47365270005511273,
          0.2536470239973373,
          0.5269413359031603,
          0.3526489740655402,
          0.35264527976129656,
          0.21306564349656892,
          0.36971909536901393,
          -0.04136296263918364,
          0.46716013416790014,
          0.4671672908632267,
          0.3092215933195119,
          0.25363456455839767,
          -0.03524612848033417,
          0.25362185863417414,
          -0.04286150811450722,
          0.28626328926572714,
          0.3525365170505593,
          -0.0416327262325699,
          0.25364498547686026,
          -0.0522915177762739,
          0.15080939682270136,
          -0.0413508075389128,
          -0.041375745188395006,
          0.36066323287555035,
          0.3868769517883798,
          0.41781645501989984,
          0.5273482277085039,
          0.46717358592186253
         ]
        },
        {
         "hovertemplate": "class=%{marker.color}<br>PC 1=%{x}<br>PC 2=%{y}<br>PC 3=%{z}<extra></extra>",
         "legendgroup": "3",
         "marker": {
          "color": [
           3,
           3,
           3,
           3,
           3,
           3
          ],
          "coloraxis": "coloraxis",
          "symbol": "square"
         },
         "mode": "markers",
         "name": "3",
         "scene": "scene",
         "showlegend": true,
         "type": "scatter3d",
         "x": [
          -0.26166855273333367,
          -0.5752604401762798,
          -0.0333858737337589,
          -0.23860505637314217,
          -0.8702066583378416,
          -0.5090396241331492
         ],
         "y": [
          3.629752748309926,
          5.2510840843240905,
          1.042738494349414,
          3.379119909084015,
          3.4367763058267555,
          2.8308900057175013
         ],
         "z": [
          14.173464177900891,
          12.672706647180132,
          13.849128176814958,
          11.818504963989845,
          6.05005448187866,
          15.051839229683713
         ]
        },
        {
         "hovertemplate": "class=%{marker.color}<br>PC 1=%{x}<br>PC 2=%{y}<br>PC 3=%{z}<extra></extra>",
         "legendgroup": "2",
         "marker": {
          "color": [
           2
          ],
          "coloraxis": "coloraxis",
          "symbol": "x"
         },
         "mode": "markers",
         "name": "2",
         "scene": "scene",
         "showlegend": true,
         "type": "scatter3d",
         "x": [
          34.160768729710924
         ],
         "y": [
          1.658052324595306
         ],
         "z": [
          -0.8378447863211329
         ]
        }
       ],
       "layout": {
        "coloraxis": {
         "colorbar": {
          "title": {
           "text": "class"
          }
         },
         "colorscale": [
          [
           0,
           "#0d0887"
          ],
          [
           0.1111111111111111,
           "#46039f"
          ],
          [
           0.2222222222222222,
           "#7201a8"
          ],
          [
           0.3333333333333333,
           "#9c179e"
          ],
          [
           0.4444444444444444,
           "#bd3786"
          ],
          [
           0.5555555555555556,
           "#d8576b"
          ],
          [
           0.6666666666666666,
           "#ed7953"
          ],
          [
           0.7777777777777778,
           "#fb9f3a"
          ],
          [
           0.8888888888888888,
           "#fdca26"
          ],
          [
           1,
           "#f0f921"
          ]
         ]
        },
        "legend": {
         "title": {
          "text": "class"
         },
         "tracegroupgap": 0,
         "x": 0,
         "y": 1
        },
        "margin": {
         "t": 60
        },
        "scene": {
         "domain": {
          "x": [
           0,
           1
          ],
          "y": [
           0,
           1
          ]
         },
         "xaxis": {
          "title": {
           "text": "PC 1"
          }
         },
         "yaxis": {
          "title": {
           "text": "PC 2"
          }
         },
         "zaxis": {
          "title": {
           "text": "PC 3"
          }
         }
        },
        "template": {
         "data": {
          "bar": [
           {
            "error_x": {
             "color": "#2a3f5f"
            },
            "error_y": {
             "color": "#2a3f5f"
            },
            "marker": {
             "line": {
              "color": "#E5ECF6",
              "width": 0.5
             }
            },
            "type": "bar"
           }
          ],
          "barpolar": [
           {
            "marker": {
             "line": {
              "color": "#E5ECF6",
              "width": 0.5
             }
            },
            "type": "barpolar"
           }
          ],
          "carpet": [
           {
            "aaxis": {
             "endlinecolor": "#2a3f5f",
             "gridcolor": "white",
             "linecolor": "white",
             "minorgridcolor": "white",
             "startlinecolor": "#2a3f5f"
            },
            "baxis": {
             "endlinecolor": "#2a3f5f",
             "gridcolor": "white",
             "linecolor": "white",
             "minorgridcolor": "white",
             "startlinecolor": "#2a3f5f"
            },
            "type": "carpet"
           }
          ],
          "choropleth": [
           {
            "colorbar": {
             "outlinewidth": 0,
             "ticks": ""
            },
            "type": "choropleth"
           }
          ],
          "contour": [
           {
            "colorbar": {
             "outlinewidth": 0,
             "ticks": ""
            },
            "colorscale": [
             [
              0,
              "#0d0887"
             ],
             [
              0.1111111111111111,
              "#46039f"
             ],
             [
              0.2222222222222222,
              "#7201a8"
             ],
             [
              0.3333333333333333,
              "#9c179e"
             ],
             [
              0.4444444444444444,
              "#bd3786"
             ],
             [
              0.5555555555555556,
              "#d8576b"
             ],
             [
              0.6666666666666666,
              "#ed7953"
             ],
             [
              0.7777777777777778,
              "#fb9f3a"
             ],
             [
              0.8888888888888888,
              "#fdca26"
             ],
             [
              1,
              "#f0f921"
             ]
            ],
            "type": "contour"
           }
          ],
          "contourcarpet": [
           {
            "colorbar": {
             "outlinewidth": 0,
             "ticks": ""
            },
            "type": "contourcarpet"
           }
          ],
          "heatmap": [
           {
            "colorbar": {
             "outlinewidth": 0,
             "ticks": ""
            },
            "colorscale": [
             [
              0,
              "#0d0887"
             ],
             [
              0.1111111111111111,
              "#46039f"
             ],
             [
              0.2222222222222222,
              "#7201a8"
             ],
             [
              0.3333333333333333,
              "#9c179e"
             ],
             [
              0.4444444444444444,
              "#bd3786"
             ],
             [
              0.5555555555555556,
              "#d8576b"
             ],
             [
              0.6666666666666666,
              "#ed7953"
             ],
             [
              0.7777777777777778,
              "#fb9f3a"
             ],
             [
              0.8888888888888888,
              "#fdca26"
             ],
             [
              1,
              "#f0f921"
             ]
            ],
            "type": "heatmap"
           }
          ],
          "heatmapgl": [
           {
            "colorbar": {
             "outlinewidth": 0,
             "ticks": ""
            },
            "colorscale": [
             [
              0,
              "#0d0887"
             ],
             [
              0.1111111111111111,
              "#46039f"
             ],
             [
              0.2222222222222222,
              "#7201a8"
             ],
             [
              0.3333333333333333,
              "#9c179e"
             ],
             [
              0.4444444444444444,
              "#bd3786"
             ],
             [
              0.5555555555555556,
              "#d8576b"
             ],
             [
              0.6666666666666666,
              "#ed7953"
             ],
             [
              0.7777777777777778,
              "#fb9f3a"
             ],
             [
              0.8888888888888888,
              "#fdca26"
             ],
             [
              1,
              "#f0f921"
             ]
            ],
            "type": "heatmapgl"
           }
          ],
          "histogram": [
           {
            "marker": {
             "colorbar": {
              "outlinewidth": 0,
              "ticks": ""
             }
            },
            "type": "histogram"
           }
          ],
          "histogram2d": [
           {
            "colorbar": {
             "outlinewidth": 0,
             "ticks": ""
            },
            "colorscale": [
             [
              0,
              "#0d0887"
             ],
             [
              0.1111111111111111,
              "#46039f"
             ],
             [
              0.2222222222222222,
              "#7201a8"
             ],
             [
              0.3333333333333333,
              "#9c179e"
             ],
             [
              0.4444444444444444,
              "#bd3786"
             ],
             [
              0.5555555555555556,
              "#d8576b"
             ],
             [
              0.6666666666666666,
              "#ed7953"
             ],
             [
              0.7777777777777778,
              "#fb9f3a"
             ],
             [
              0.8888888888888888,
              "#fdca26"
             ],
             [
              1,
              "#f0f921"
             ]
            ],
            "type": "histogram2d"
           }
          ],
          "histogram2dcontour": [
           {
            "colorbar": {
             "outlinewidth": 0,
             "ticks": ""
            },
            "colorscale": [
             [
              0,
              "#0d0887"
             ],
             [
              0.1111111111111111,
              "#46039f"
             ],
             [
              0.2222222222222222,
              "#7201a8"
             ],
             [
              0.3333333333333333,
              "#9c179e"
             ],
             [
              0.4444444444444444,
              "#bd3786"
             ],
             [
              0.5555555555555556,
              "#d8576b"
             ],
             [
              0.6666666666666666,
              "#ed7953"
             ],
             [
              0.7777777777777778,
              "#fb9f3a"
             ],
             [
              0.8888888888888888,
              "#fdca26"
             ],
             [
              1,
              "#f0f921"
             ]
            ],
            "type": "histogram2dcontour"
           }
          ],
          "mesh3d": [
           {
            "colorbar": {
             "outlinewidth": 0,
             "ticks": ""
            },
            "type": "mesh3d"
           }
          ],
          "parcoords": [
           {
            "line": {
             "colorbar": {
              "outlinewidth": 0,
              "ticks": ""
             }
            },
            "type": "parcoords"
           }
          ],
          "pie": [
           {
            "automargin": true,
            "type": "pie"
           }
          ],
          "scatter": [
           {
            "marker": {
             "colorbar": {
              "outlinewidth": 0,
              "ticks": ""
             }
            },
            "type": "scatter"
           }
          ],
          "scatter3d": [
           {
            "line": {
             "colorbar": {
              "outlinewidth": 0,
              "ticks": ""
             }
            },
            "marker": {
             "colorbar": {
              "outlinewidth": 0,
              "ticks": ""
             }
            },
            "type": "scatter3d"
           }
          ],
          "scattercarpet": [
           {
            "marker": {
             "colorbar": {
              "outlinewidth": 0,
              "ticks": ""
             }
            },
            "type": "scattercarpet"
           }
          ],
          "scattergeo": [
           {
            "marker": {
             "colorbar": {
              "outlinewidth": 0,
              "ticks": ""
             }
            },
            "type": "scattergeo"
           }
          ],
          "scattergl": [
           {
            "marker": {
             "colorbar": {
              "outlinewidth": 0,
              "ticks": ""
             }
            },
            "type": "scattergl"
           }
          ],
          "scattermapbox": [
           {
            "marker": {
             "colorbar": {
              "outlinewidth": 0,
              "ticks": ""
             }
            },
            "type": "scattermapbox"
           }
          ],
          "scatterpolar": [
           {
            "marker": {
             "colorbar": {
              "outlinewidth": 0,
              "ticks": ""
             }
            },
            "type": "scatterpolar"
           }
          ],
          "scatterpolargl": [
           {
            "marker": {
             "colorbar": {
              "outlinewidth": 0,
              "ticks": ""
             }
            },
            "type": "scatterpolargl"
           }
          ],
          "scatterternary": [
           {
            "marker": {
             "colorbar": {
              "outlinewidth": 0,
              "ticks": ""
             }
            },
            "type": "scatterternary"
           }
          ],
          "surface": [
           {
            "colorbar": {
             "outlinewidth": 0,
             "ticks": ""
            },
            "colorscale": [
             [
              0,
              "#0d0887"
             ],
             [
              0.1111111111111111,
              "#46039f"
             ],
             [
              0.2222222222222222,
              "#7201a8"
             ],
             [
              0.3333333333333333,
              "#9c179e"
             ],
             [
              0.4444444444444444,
              "#bd3786"
             ],
             [
              0.5555555555555556,
              "#d8576b"
             ],
             [
              0.6666666666666666,
              "#ed7953"
             ],
             [
              0.7777777777777778,
              "#fb9f3a"
             ],
             [
              0.8888888888888888,
              "#fdca26"
             ],
             [
              1,
              "#f0f921"
             ]
            ],
            "type": "surface"
           }
          ],
          "table": [
           {
            "cells": {
             "fill": {
              "color": "#EBF0F8"
             },
             "line": {
              "color": "white"
             }
            },
            "header": {
             "fill": {
              "color": "#C8D4E3"
             },
             "line": {
              "color": "white"
             }
            },
            "type": "table"
           }
          ]
         },
         "layout": {
          "annotationdefaults": {
           "arrowcolor": "#2a3f5f",
           "arrowhead": 0,
           "arrowwidth": 1
          },
          "autotypenumbers": "strict",
          "coloraxis": {
           "colorbar": {
            "outlinewidth": 0,
            "ticks": ""
           }
          },
          "colorscale": {
           "diverging": [
            [
             0,
             "#8e0152"
            ],
            [
             0.1,
             "#c51b7d"
            ],
            [
             0.2,
             "#de77ae"
            ],
            [
             0.3,
             "#f1b6da"
            ],
            [
             0.4,
             "#fde0ef"
            ],
            [
             0.5,
             "#f7f7f7"
            ],
            [
             0.6,
             "#e6f5d0"
            ],
            [
             0.7,
             "#b8e186"
            ],
            [
             0.8,
             "#7fbc41"
            ],
            [
             0.9,
             "#4d9221"
            ],
            [
             1,
             "#276419"
            ]
           ],
           "sequential": [
            [
             0,
             "#0d0887"
            ],
            [
             0.1111111111111111,
             "#46039f"
            ],
            [
             0.2222222222222222,
             "#7201a8"
            ],
            [
             0.3333333333333333,
             "#9c179e"
            ],
            [
             0.4444444444444444,
             "#bd3786"
            ],
            [
             0.5555555555555556,
             "#d8576b"
            ],
            [
             0.6666666666666666,
             "#ed7953"
            ],
            [
             0.7777777777777778,
             "#fb9f3a"
            ],
            [
             0.8888888888888888,
             "#fdca26"
            ],
            [
             1,
             "#f0f921"
            ]
           ],
           "sequentialminus": [
            [
             0,
             "#0d0887"
            ],
            [
             0.1111111111111111,
             "#46039f"
            ],
            [
             0.2222222222222222,
             "#7201a8"
            ],
            [
             0.3333333333333333,
             "#9c179e"
            ],
            [
             0.4444444444444444,
             "#bd3786"
            ],
            [
             0.5555555555555556,
             "#d8576b"
            ],
            [
             0.6666666666666666,
             "#ed7953"
            ],
            [
             0.7777777777777778,
             "#fb9f3a"
            ],
            [
             0.8888888888888888,
             "#fdca26"
            ],
            [
             1,
             "#f0f921"
            ]
           ]
          },
          "colorway": [
           "#636efa",
           "#EF553B",
           "#00cc96",
           "#ab63fa",
           "#FFA15A",
           "#19d3f3",
           "#FF6692",
           "#B6E880",
           "#FF97FF",
           "#FECB52"
          ],
          "font": {
           "color": "#2a3f5f"
          },
          "geo": {
           "bgcolor": "white",
           "lakecolor": "white",
           "landcolor": "#E5ECF6",
           "showlakes": true,
           "showland": true,
           "subunitcolor": "white"
          },
          "hoverlabel": {
           "align": "left"
          },
          "hovermode": "closest",
          "mapbox": {
           "style": "light"
          },
          "paper_bgcolor": "white",
          "plot_bgcolor": "#E5ECF6",
          "polar": {
           "angularaxis": {
            "gridcolor": "white",
            "linecolor": "white",
            "ticks": ""
           },
           "bgcolor": "#E5ECF6",
           "radialaxis": {
            "gridcolor": "white",
            "linecolor": "white",
            "ticks": ""
           }
          },
          "scene": {
           "xaxis": {
            "backgroundcolor": "#E5ECF6",
            "gridcolor": "white",
            "gridwidth": 2,
            "linecolor": "white",
            "showbackground": true,
            "ticks": "",
            "zerolinecolor": "white"
           },
           "yaxis": {
            "backgroundcolor": "#E5ECF6",
            "gridcolor": "white",
            "gridwidth": 2,
            "linecolor": "white",
            "showbackground": true,
            "ticks": "",
            "zerolinecolor": "white"
           },
           "zaxis": {
            "backgroundcolor": "#E5ECF6",
            "gridcolor": "white",
            "gridwidth": 2,
            "linecolor": "white",
            "showbackground": true,
            "ticks": "",
            "zerolinecolor": "white"
           }
          },
          "shapedefaults": {
           "line": {
            "color": "#2a3f5f"
           }
          },
          "ternary": {
           "aaxis": {
            "gridcolor": "white",
            "linecolor": "white",
            "ticks": ""
           },
           "baxis": {
            "gridcolor": "white",
            "linecolor": "white",
            "ticks": ""
           },
           "bgcolor": "#E5ECF6",
           "caxis": {
            "gridcolor": "white",
            "linecolor": "white",
            "ticks": ""
           }
          },
          "title": {
           "x": 0.05
          },
          "xaxis": {
           "automargin": true,
           "gridcolor": "white",
           "linecolor": "white",
           "ticks": "",
           "title": {
            "standoff": 15
           },
           "zerolinecolor": "white",
           "zerolinewidth": 2
          },
          "yaxis": {
           "automargin": true,
           "gridcolor": "white",
           "linecolor": "white",
           "ticks": "",
           "title": {
            "standoff": 15
           },
           "zerolinecolor": "white",
           "zerolinewidth": 2
          }
         }
        },
        "width": 800
       }
      }
     },
     "metadata": {}
    }
   ],
   "source": [
    " # Plotting the 3D-Scatter with x=\"Annual Income\", y=\"Spending Score (1-100)\" and z=\"Age\"\n",
    "fig = px.scatter_3d(\n",
    "    four_clusters,\n",
    "    x=\"PC 1\",\n",
    "    y=\"PC 2\",\n",
    "    z=\"PC 3\",\n",
    "    color=\"class\",\n",
    "    symbol=\"class\",\n",
    "    width=800,\n",
    ")\n",
    "fig.update_layout(legend=dict(x=0, y=1))\n",
    "fig.show()"
   ]
  },
  {
   "cell_type": "markdown",
   "metadata": {},
   "source": [
    "#### Table of Tradable Cryptocurrencies"
   ]
  },
  {
   "cell_type": "code",
   "execution_count": 293,
   "metadata": {},
   "outputs": [],
   "source": [
    "# Table with tradable cryptos\n",
    "clustered_df"
   ]
  },
  {
   "cell_type": "code",
   "execution_count": 294,
   "metadata": {},
   "outputs": [],
   "source": [
    "# Print the total number of tradable cryptocurrencies\n"
   ]
  },
  {
   "cell_type": "markdown",
   "metadata": {},
   "source": [
    "#### Scatter Plot with Tradable Cryptocurrencies"
   ]
  },
  {
   "cell_type": "code",
   "execution_count": 295,
   "metadata": {},
   "outputs": [],
   "source": [
    "# Scale data to create the scatter plot\n"
   ]
  },
  {
   "cell_type": "code",
   "execution_count": 296,
   "metadata": {},
   "outputs": [],
   "source": [
    "# Plot the scatter with x=\"TotalCoinsMined\" and y=\"TotalCoinSupply\"\n"
   ]
  }
 ],
 "metadata": {
  "file_extension": ".py",
  "kernelspec": {
   "name": "python3",
   "display_name": "Python 3.7.9 64-bit ('base2': conda)",
   "metadata": {
    "interpreter": {
     "hash": "73f1f524b0acba47992ffd8f83b72f373e11b5b8b725181591c7f0bda5344930"
    }
   }
  },
  "language_info": {
   "codemirror_mode": {
    "name": "ipython",
    "version": 3
   },
   "file_extension": ".py",
   "mimetype": "text/x-python",
   "name": "python",
   "nbconvert_exporter": "python",
   "pygments_lexer": "ipython3",
   "version": "3.7.9-final"
  },
  "mimetype": "text/x-python",
  "name": "python",
  "npconvert_exporter": "python",
  "pygments_lexer": "ipython3",
  "version": 3
 },
 "nbformat": 4,
 "nbformat_minor": 4
}